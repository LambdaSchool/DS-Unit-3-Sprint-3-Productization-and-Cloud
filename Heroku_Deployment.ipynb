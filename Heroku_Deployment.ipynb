{
  "nbformat": 4,
  "nbformat_minor": 0,
  "metadata": {
    "colab": {
      "name": "Heroku_Deployment",
      "version": "0.3.2",
      "provenance": []
    },
    "kernelspec": {
      "name": "python3",
      "display_name": "Python 3"
    }
  },
  "cells": [
    {
      "cell_type": "markdown",
      "metadata": {
        "id": "YKaFJ8G5G7Rt",
        "colab_type": "text"
      },
      "source": [
        "#Make App - dashboard.heroku.com\n",
        "\n",
        "- create new app in heroku Dashboard\n",
        "  - Add to pipeline\n",
        "       - production mode\n",
        "       - name it 'github'\n",
        "       - Login to github and choose the repo you want to connect\n",
        "  - Enable automatic deploys\n",
        "  \n",
        "- set .env variables.\n",
        "  - go to settings\n",
        "  - config vars - copy paste codes for the API's\n",
        "  "
      ]
    },
    {
      "cell_type": "markdown",
      "metadata": {
        "id": "Lq1-tf1lHjnI",
        "colab_type": "text"
      },
      "source": [
        "#Make sure environment is Set up\n",
        "\n",
        "- pipenv\n",
        "   - make sure Pipfile and Pipfile.lock is updated\n",
        "- conda\n",
        "  - environment.txt with ```pip freeze > requirements.txt```\n",
        "  - .ytml file too I think... don't remember what it was called. Sorry if you use conda.\n",
        "- Create ```Procfile``` in main directory\n",
        "  - ```web: gunicorn <directory name>:APP -t 120``` \n",
        "- make sure ```gunicorn``` and ```psycopg2``` (or ```psycopg2-binary```) is installed\n",
        "- commit changes\n"
      ]
    },
    {
      "cell_type": "markdown",
      "metadata": {
        "id": "Vl3DImrsJcqp",
        "colab_type": "text"
      },
      "source": [
        "# Connect Heroku to a Database\n",
        "- if you don't have it already... install heroku\n",
        "  - ```brew tap heroku/brew && brew install heroku```\n",
        "  \n",
        "- In terminal - steps\n",
        "  - ```heroku login```\n",
        "    - should direct you to page to login to heroku\n",
        "  - ```heroku git:remote -a <app-name>```\n",
        "  - ```heroku addons:create heroku-postgresql:hobby-dev```\n",
        "    - should give you a name of the database in green. This is what you will paste into your app.py next\n",
        "    \n",
        "- Back in app.py - steps\n",
        "  - make sure you ```import os```\n",
        "  - set  ```app.config['SQLALCHEMY_DATABASE_URI'] = os.environ.get('<database-name-given-by-heroku>')```\n",
        "  \n",
        "- Finally, back in the terminal, commit your changes.\n",
        "\n",
        "- to check the logs, and for any bugs\n",
        "  - ```heroku logs --tail```\n",
        "  "
      ]
    },
    {
      "cell_type": "code",
      "metadata": {
        "id": "_RGp9TfmK4AY",
        "colab_type": "code",
        "colab": {}
      },
      "source": [
        ""
      ],
      "execution_count": 0,
      "outputs": []
    }
  ]
}