{
 "cells": [
  {
   "cell_type": "code",
   "execution_count": 2,
   "metadata": {},
   "outputs": [],
   "source": [
    "import requests as rq\n",
    "import json"
   ]
  },
  {
   "cell_type": "code",
   "execution_count": 3,
   "metadata": {},
   "outputs": [],
   "source": [
    "response = rq.get('http://api.open-notify.org/iss-now.json')"
   ]
  },
  {
   "cell_type": "code",
   "execution_count": 4,
   "metadata": {},
   "outputs": [
    {
     "name": "stdout",
     "output_type": "stream",
     "text": [
      "200\n"
     ]
    }
   ],
   "source": [
    "# 200 means everything good, got response\n",
    "# 301 redirected to a different endpoint\n",
    "# 401 authentication error\n",
    "# 400 bad request\n",
    "# 403 access is forbidden\n",
    "# 404 resource not found\n",
    "\n",
    "print(response.status_code)"
   ]
  },
  {
   "cell_type": "code",
   "execution_count": 5,
   "metadata": {},
   "outputs": [
    {
     "name": "stdout",
     "output_type": "stream",
     "text": [
      "<Response [200]>\n"
     ]
    }
   ],
   "source": [
    "print(response)"
   ]
  },
  {
   "cell_type": "code",
   "execution_count": 6,
   "metadata": {},
   "outputs": [],
   "source": [
    "# your location\n",
    "parameters = {'lat': 40.71, 'lon': -74}"
   ]
  },
  {
   "cell_type": "code",
   "execution_count": 9,
   "metadata": {},
   "outputs": [],
   "source": [
    "response = rq.get('http://api.open-notify.org/iss-now.json', params=parameters)"
   ]
  },
  {
   "cell_type": "code",
   "execution_count": 10,
   "metadata": {},
   "outputs": [
    {
     "name": "stdout",
     "output_type": "stream",
     "text": [
      "b'{\"message\": \"success\", \"iss_position\": {\"longitude\": \"-4.0415\", \"latitude\": \"12.3462\"}, \"timestamp\": 1563900719}'\n"
     ]
    }
   ],
   "source": [
    "print(response.content)"
   ]
  },
  {
   "cell_type": "code",
   "execution_count": 11,
   "metadata": {},
   "outputs": [],
   "source": [
    "fast_food = ['Mickey Dees', 'BK', 'Taco Bell']"
   ]
  },
  {
   "cell_type": "code",
   "execution_count": 12,
   "metadata": {},
   "outputs": [
    {
     "data": {
      "text/plain": [
       "list"
      ]
     },
     "execution_count": 12,
     "metadata": {},
     "output_type": "execute_result"
    }
   ],
   "source": [
    "type(fast_food)"
   ]
  },
  {
   "cell_type": "code",
   "execution_count": 14,
   "metadata": {},
   "outputs": [],
   "source": [
    "fast_food_string = json.dumps(fast_food)"
   ]
  },
  {
   "cell_type": "code",
   "execution_count": 15,
   "metadata": {},
   "outputs": [
    {
     "data": {
      "text/plain": [
       "str"
      ]
     },
     "execution_count": 15,
     "metadata": {},
     "output_type": "execute_result"
    }
   ],
   "source": [
    "type(fast_food_string)"
   ]
  },
  {
   "cell_type": "code",
   "execution_count": 16,
   "metadata": {},
   "outputs": [
    {
     "name": "stdout",
     "output_type": "stream",
     "text": [
      "<class 'list'>\n"
     ]
    }
   ],
   "source": [
    "print(type(json.loads(fast_food_string)))"
   ]
  },
  {
   "cell_type": "code",
   "execution_count": 17,
   "metadata": {},
   "outputs": [],
   "source": [
    "fast_food_franchise = {'Subway': 24722,\n",
    "                      'McDonalds': 14098,\n",
    "                      'Starbucks': 10821,\n",
    "                      'Pizza Hut': 7600}"
   ]
  },
  {
   "cell_type": "code",
   "execution_count": 18,
   "metadata": {},
   "outputs": [],
   "source": [
    "fast_food_franchise_string = json.dumps(fast_food_franchise)"
   ]
  },
  {
   "cell_type": "code",
   "execution_count": 19,
   "metadata": {},
   "outputs": [
    {
     "name": "stdout",
     "output_type": "stream",
     "text": [
      "<class 'str'>\n"
     ]
    }
   ],
   "source": [
    "print(type(fast_food_franchise_string))"
   ]
  },
  {
   "cell_type": "code",
   "execution_count": 20,
   "metadata": {},
   "outputs": [],
   "source": [
    "# Weather API\n",
    "import datetime\n",
    "import pytz"
   ]
  },
  {
   "cell_type": "code",
   "execution_count": 22,
   "metadata": {},
   "outputs": [
    {
     "name": "stdout",
     "output_type": "stream",
     "text": [
      "200\n"
     ]
    }
   ],
   "source": [
    "# My lat & long & weatherbit API\n",
    "response = rq.get('http://api.weatherbit.io/v2.0/forecast/hourly?lat=35.221329&lon=-80.821927&key=11cad8527ac14a739ed0c3c23fc09f6a')\n",
    "print(response.status_code)"
   ]
  },
  {
   "cell_type": "code",
   "execution_count": 23,
   "metadata": {},
   "outputs": [],
   "source": [
    "# Potential problem: my time, API time, server time\n",
    "utc_now = pytz.utc.localize(datetime.datetime.utcnow())\n",
    "currentDT = utc_now.astimezone(pytz.timezone('America/New_York'))"
   ]
  },
  {
   "cell_type": "code",
   "execution_count": 24,
   "metadata": {},
   "outputs": [],
   "source": [
    "Month = currentDT.month\n",
    "Day = currentDT.day\n",
    "Hour = currentDT.hour"
   ]
  },
  {
   "cell_type": "code",
   "execution_count": 27,
   "metadata": {},
   "outputs": [
    {
     "name": "stdout",
     "output_type": "stream",
     "text": [
      "13\n"
     ]
    }
   ],
   "source": [
    "print(Hour)"
   ]
  },
  {
   "cell_type": "code",
   "execution_count": 28,
   "metadata": {},
   "outputs": [],
   "source": [
    "data = response.json()"
   ]
  },
  {
   "cell_type": "code",
   "execution_count": 29,
   "metadata": {},
   "outputs": [
    {
     "name": "stdout",
     "output_type": "stream",
     "text": [
      "{'data': [{'wind_cdir': 'NW', 'rh': 65, 'pod': 'd', 'timestamp_utc': '2019-07-23T18:00:00', 'pres': 983.619, 'solar_rad': 664.19, 'ozone': 302.4, 'weather': {'icon': 'c04d', 'code': 804, 'description': 'Overcast clouds'}, 'wind_gust_spd': 4.5, 'timestamp_local': '2019-07-23T14:00:00', 'snow_depth': 0, 'clouds': 79, 'ts': 1563904800, 'wind_spd': 4.92601, 'pop': 0, 'wind_cdir_full': 'northwest', 'slp': 1008.22, 'dni': 925.63, 'dewpt': 21.9, 'snow': 0, 'uv': 4.75051, 'wind_dir': 317, 'clouds_hi': 64, 'precip': 0, 'vis': 24.1, 'dhi': 122.98, 'app_temp': 32.3, 'datetime': '2019-07-23:18', 'temp': 29.2, 'ghi': 1001.05, 'clouds_mid': 36, 'clouds_low': 79}, {'wind_cdir': 'NNW', 'rh': 94, 'pod': 'd', 'timestamp_utc': '2019-07-23T19:00:00', 'pres': 986.254, 'solar_rad': 452.442, 'ozone': 303.649, 'weather': {'icon': 'r03d', 'code': 502, 'description': 'Heavy rain'}, 'wind_gust_spd': 12.3, 'timestamp_local': '2019-07-23T15:00:00', 'snow_depth': 0, 'clouds': 85, 'ts': 1563908400, 'wind_spd': 6.03936, 'pop': 90, 'wind_cdir_full': 'north-northwest', 'slp': 1011.27, 'dni': 912.25, 'dewpt': 18.9, 'snow': 0, 'uv': 3.82595, 'wind_dir': 345, 'clouds_hi': 52, 'precip': 7.125, 'vis': 1, 'dhi': 119.98, 'app_temp': 20.5, 'datetime': '2019-07-23:19', 'temp': 19.9, 'ghi': 938.53, 'clouds_mid': 85, 'clouds_low': 40}, {'wind_cdir': 'NNW', 'rh': 87, 'pod': 'd', 'timestamp_utc': '2019-07-23T20:00:00', 'pres': 985.097, 'solar_rad': 199.548, 'ozone': 304.797, 'weather': {'icon': 't03d', 'code': 202, 'description': 'Thunderstorm with heavy rain'}, 'wind_gust_spd': 13.8, 'timestamp_local': '2019-07-23T16:00:00', 'snow_depth': 0, 'clouds': 98, 'ts': 1563912000, 'wind_spd': 5.67722, 'pop': 90, 'wind_cdir_full': 'north-northwest', 'slp': 1010.04, 'dni': 883.44, 'dewpt': 18.6, 'snow': 0, 'uv': 2.35377, 'wind_dir': 359, 'clouds_hi': 60, 'precip': 11.875, 'vis': 24.1, 'dhi': 113.79, 'app_temp': 21.3, 'datetime': '2019-07-23:20', 'temp': 20.9, 'ghi': 818.59, 'clouds_mid': 98, 'clouds_low': 13}, {'wind_cdir': 'NNE', 'rh': 82, 'pod': 'd', 'timestamp_utc': '2019-07-23T21:00:00', 'pres': 985.665, 'solar_rad': 123.836, 'ozone': 304.097, 'weather': {'icon': 'c04d', 'code': 804, 'description': 'Overcast clouds'}, 'wind_gust_spd': 12.2, 'timestamp_local': '2019-07-23T17:00:00', 'snow_depth': 0, 'clouds': 100, 'ts': 1563915600, 'wind_spd': 4.72406, 'pop': 15, 'wind_cdir_full': 'north-northeast', 'slp': 1010.58, 'dni': 834.29, 'dewpt': 18.6, 'snow': 0, 'uv': 1.58924, 'wind_dir': 12, 'clouds_hi': 100, 'precip': 0.0625, 'vis': 24.1, 'dhi': 104.01, 'app_temp': 22.4, 'datetime': '2019-07-23:21', 'temp': 22, 'ghi': 651.77, 'clouds_mid': 100, 'clouds_low': 14}, {'wind_cdir': 'NNE', 'rh': 76, 'pod': 'd', 'timestamp_utc': '2019-07-23T22:00:00', 'pres': 985.595, 'solar_rad': 187.754, 'ozone': 303.366, 'weather': {'icon': 'c04d', 'code': 804, 'description': 'Overcast clouds'}, 'wind_gust_spd': 10.2, 'timestamp_local': '2019-07-23T18:00:00', 'snow_depth': 0, 'clouds': 93, 'ts': 1563919200, 'wind_spd': 4.15396, 'pop': 0, 'wind_cdir_full': 'north-northeast', 'slp': 1010.49, 'dni': 753.77, 'dewpt': 18.3, 'snow': 0, 'uv': 1.22328, 'wind_dir': 21, 'clouds_hi': 54, 'precip': 0, 'vis': 24.1, 'dhi': 89.8, 'app_temp': 23.2, 'datetime': '2019-07-23:22', 'temp': 22.8, 'ghi': 453.52, 'clouds_mid': 93, 'clouds_low': 12}, {'wind_cdir': 'NNE', 'rh': 79, 'pod': 'd', 'timestamp_utc': '2019-07-23T23:00:00', 'pres': 985.953, 'solar_rad': 158.649, 'ozone': 305.454, 'weather': {'icon': 'c04d', 'code': 804, 'description': 'Overcast clouds'}, 'wind_gust_spd': 6.3, 'timestamp_local': '2019-07-23T19:00:00', 'snow_depth': 0, 'clouds': 80, 'ts': 1563922800, 'wind_spd': 2.84325, 'pop': 0, 'wind_cdir_full': 'north-northeast', 'slp': 1010.86, 'dni': 613.77, 'dewpt': 18.4, 'snow': 0, 'uv': 1.09335, 'wind_dir': 27, 'clouds_hi': 68, 'precip': 0, 'vis': 24.1, 'dhi': 69.18, 'app_temp': 22.7, 'datetime': '2019-07-23:23', 'temp': 22.4, 'ghi': 244.53, 'clouds_mid': 80, 'clouds_low': 37}, {'wind_cdir': 'NNE', 'rh': 80, 'pod': 'd', 'timestamp_utc': '2019-07-24T00:00:00', 'pres': 986.117, 'solar_rad': 20.7565, 'ozone': 305.634, 'weather': {'icon': 'c04d', 'code': 804, 'description': 'Overcast clouds'}, 'wind_gust_spd': 6.2, 'timestamp_local': '2019-07-23T20:00:00', 'snow_depth': 0, 'clouds': 93, 'ts': 1563926400, 'wind_spd': 2.66962, 'pop': 0, 'wind_cdir_full': 'north-northeast', 'slp': 1011.02, 'dni': 310.03, 'dewpt': 18.5, 'snow': 0, 'uv': 0.769448, 'wind_dir': 32, 'clouds_hi': 93, 'precip': 0, 'vis': 24.1, 'dhi': 35.66, 'app_temp': 22.5, 'datetime': '2019-07-24:00', 'temp': 22.1, 'ghi': 56.54, 'clouds_mid': 86, 'clouds_low': 35}, {'wind_cdir': 'NNE', 'rh': 84, 'pod': 'n', 'timestamp_utc': '2019-07-24T01:00:00', 'pres': 986.333, 'solar_rad': 0, 'ozone': 308.776, 'weather': {'icon': 'c04n', 'code': 804, 'description': 'Overcast clouds'}, 'wind_gust_spd': 6.9, 'timestamp_local': '2019-07-23T21:00:00', 'snow_depth': 0, 'clouds': 86, 'ts': 1563930000, 'wind_spd': 2.75263, 'pop': 0, 'wind_cdir_full': 'north-northeast', 'slp': 1011.25, 'dni': 0, 'dewpt': 18.7, 'snow': 0, 'uv': 0, 'wind_dir': 20, 'clouds_hi': 86, 'precip': 0, 'vis': 24.1, 'dhi': 0, 'app_temp': 22.2, 'datetime': '2019-07-24:01', 'temp': 21.8, 'ghi': 0, 'clouds_mid': 56, 'clouds_low': 28}, {'wind_cdir': 'NNE', 'rh': 84, 'pod': 'n', 'timestamp_utc': '2019-07-24T02:00:00', 'pres': 987.446, 'solar_rad': 0, 'ozone': 317.7, 'weather': {'icon': 'c04n', 'code': 804, 'description': 'Overcast clouds'}, 'wind_gust_spd': 6.4, 'timestamp_local': '2019-07-23T22:00:00', 'snow_depth': 0, 'clouds': 94, 'ts': 1563933600, 'wind_spd': 2.3047, 'pop': 0, 'wind_cdir_full': 'north-northeast', 'slp': 1012.39, 'dni': 0, 'dewpt': 18.8, 'snow': 0, 'uv': 0, 'wind_dir': 25, 'clouds_hi': 94, 'precip': 0, 'vis': 24.1, 'dhi': 0, 'app_temp': 22.2, 'datetime': '2019-07-24:02', 'temp': 21.7, 'ghi': 0, 'clouds_mid': 86, 'clouds_low': 6}, {'wind_cdir': 'NNE', 'rh': 84, 'pod': 'n', 'timestamp_utc': '2019-07-24T03:00:00', 'pres': 987.773, 'solar_rad': 0, 'ozone': 318.535, 'weather': {'icon': 'c04n', 'code': 804, 'description': 'Overcast clouds'}, 'wind_gust_spd': 6.2, 'timestamp_local': '2019-07-23T23:00:00', 'snow_depth': 0, 'clouds': 99, 'ts': 1563937200, 'wind_spd': 2.34705, 'pop': 0, 'wind_cdir_full': 'north-northeast', 'slp': 1012.74, 'dni': 0, 'dewpt': 18.7, 'snow': 0, 'uv': 0, 'wind_dir': 18, 'clouds_hi': 99, 'precip': 0, 'vis': 24.1, 'dhi': 0, 'app_temp': 22.1, 'datetime': '2019-07-24:03', 'temp': 21.7, 'ghi': 0, 'clouds_mid': 75, 'clouds_low': 43}, {'wind_cdir': 'NNW', 'rh': 88, 'pod': 'n', 'timestamp_utc': '2019-07-24T04:00:00', 'pres': 988.091, 'solar_rad': 0, 'ozone': 317.163, 'weather': {'icon': 'c04n', 'code': 804, 'description': 'Overcast clouds'}, 'wind_gust_spd': 7.1, 'timestamp_local': '2019-07-24T00:00:00', 'snow_depth': 0, 'clouds': 85, 'ts': 1563940800, 'wind_spd': 2.2039, 'pop': 0, 'wind_cdir_full': 'north-northwest', 'slp': 1013.07, 'dni': 0, 'dewpt': 19.1, 'snow': 0, 'uv': 0, 'wind_dir': 347, 'clouds_hi': 85, 'precip': 0, 'vis': 24.1, 'dhi': 0, 'app_temp': 21.7, 'datetime': '2019-07-24:04', 'temp': 21.2, 'ghi': 0, 'clouds_mid': 4, 'clouds_low': 45}, {'wind_cdir': 'NNW', 'rh': 80, 'pod': 'n', 'timestamp_utc': '2019-07-24T05:00:00', 'pres': 987.588, 'solar_rad': 0, 'ozone': 316.915, 'weather': {'icon': 'c04n', 'code': 804, 'description': 'Overcast clouds'}, 'wind_gust_spd': 9.4, 'timestamp_local': '2019-07-24T01:00:00', 'snow_depth': 0, 'clouds': 96, 'ts': 1563944400, 'wind_spd': 3.38636, 'pop': 0, 'wind_cdir_full': 'north-northwest', 'slp': 1012.55, 'dni': 0, 'dewpt': 17.7, 'snow': 0, 'uv': 0, 'wind_dir': 335, 'clouds_hi': 96, 'precip': 0, 'vis': 24.1, 'dhi': 0, 'app_temp': 21.8, 'datetime': '2019-07-24:05', 'temp': 21.5, 'ghi': 0, 'clouds_mid': 9, 'clouds_low': 24}, {'wind_cdir': 'NNW', 'rh': 73, 'pod': 'n', 'timestamp_utc': '2019-07-24T06:00:00', 'pres': 987.544, 'solar_rad': 0, 'ozone': 316.755, 'weather': {'icon': 'c03n', 'code': 803, 'description': 'Broken clouds'}, 'wind_gust_spd': 10.1, 'timestamp_local': '2019-07-24T02:00:00', 'snow_depth': 0, 'clouds': 62, 'ts': 1563948000, 'wind_spd': 3.44256, 'pop': 0, 'wind_cdir_full': 'north-northwest', 'slp': 1012.53, 'dni': 0, 'dewpt': 16, 'snow': 0, 'uv': 0, 'wind_dir': 329, 'clouds_hi': 62, 'precip': 0, 'vis': 24.1, 'dhi': 0, 'app_temp': 21.1, 'datetime': '2019-07-24:06', 'temp': 21.1, 'ghi': 0, 'clouds_mid': 0, 'clouds_low': 6}, {'wind_cdir': 'NNW', 'rh': 75, 'pod': 'n', 'timestamp_utc': '2019-07-24T07:00:00', 'pres': 986.719, 'solar_rad': 0, 'ozone': 316.124, 'weather': {'icon': 'c02n', 'code': 801, 'description': 'Few clouds'}, 'wind_gust_spd': 12.3, 'timestamp_local': '2019-07-24T03:00:00', 'snow_depth': 0, 'clouds': 2, 'ts': 1563951600, 'wind_spd': 3.84409, 'pop': 0, 'wind_cdir_full': 'north-northwest', 'slp': 1011.72, 'dni': 0, 'dewpt': 15.6, 'snow': 0, 'uv': 0, 'wind_dir': 334, 'clouds_hi': 2, 'precip': 0, 'vis': 24.1, 'dhi': 0, 'app_temp': 20.2, 'datetime': '2019-07-24:07', 'temp': 20.2, 'ghi': 0, 'clouds_mid': 0, 'clouds_low': 0}, {'wind_cdir': 'NNW', 'rh': 73, 'pod': 'n', 'timestamp_utc': '2019-07-24T08:00:00', 'pres': 986.7, 'solar_rad': 0, 'ozone': 317.333, 'weather': {'icon': 'c02n', 'code': 802, 'description': 'Scattered clouds'}, 'wind_gust_spd': 12.8, 'timestamp_local': '2019-07-24T04:00:00', 'snow_depth': 0, 'clouds': 31, 'ts': 1563955200, 'wind_spd': 3.54615, 'pop': 0, 'wind_cdir_full': 'north-northwest', 'slp': 1011.72, 'dni': 0, 'dewpt': 14.8, 'snow': 0, 'uv': 0, 'wind_dir': 339, 'clouds_hi': 31, 'precip': 0, 'vis': 24.1, 'dhi': 0, 'app_temp': 19.8, 'datetime': '2019-07-24:08', 'temp': 19.8, 'ghi': 0, 'clouds_mid': 0, 'clouds_low': 0}, {'wind_cdir': 'NNW', 'rh': 70, 'pod': 'n', 'timestamp_utc': '2019-07-24T09:00:00', 'pres': 987.106, 'solar_rad': 0, 'ozone': 319.5, 'weather': {'icon': 'c02n', 'code': 801, 'description': 'Few clouds'}, 'wind_gust_spd': 12.8, 'timestamp_local': '2019-07-24T05:00:00', 'snow_depth': 0, 'clouds': 10, 'ts': 1563958800, 'wind_spd': 3.5077, 'pop': 0, 'wind_cdir_full': 'north-northwest', 'slp': 1012.15, 'dni': 0, 'dewpt': 13.9, 'snow': 0, 'uv': 0, 'wind_dir': 342, 'clouds_hi': 10, 'precip': 0, 'vis': 24.1, 'dhi': 0, 'app_temp': 19.5, 'datetime': '2019-07-24:09', 'temp': 19.6, 'ghi': 0, 'clouds_mid': 0, 'clouds_low': 0}, {'wind_cdir': 'NNW', 'rh': 68, 'pod': 'n', 'timestamp_utc': '2019-07-24T10:00:00', 'pres': 987.926, 'solar_rad': 0, 'ozone': 320.705, 'weather': {'icon': 'c02n', 'code': 801, 'description': 'Few clouds'}, 'wind_gust_spd': 13.3, 'timestamp_local': '2019-07-24T06:00:00', 'snow_depth': 0, 'clouds': 4, 'ts': 1563962400, 'wind_spd': 3.8388, 'pop': 0, 'wind_cdir_full': 'north-northwest', 'slp': 1013.01, 'dni': 0, 'dewpt': 13.2, 'snow': 0, 'uv': 0, 'wind_dir': 347, 'clouds_hi': 4, 'precip': 0, 'vis': 24.1, 'dhi': 0, 'app_temp': 19.1, 'datetime': '2019-07-24:10', 'temp': 19.3, 'ghi': 0, 'clouds_mid': 0, 'clouds_low': 0}, {'wind_cdir': 'NNW', 'rh': 68, 'pod': 'd', 'timestamp_utc': '2019-07-24T11:00:00', 'pres': 988.773, 'solar_rad': 54.12, 'ozone': 321.012, 'weather': {'icon': 'c01d', 'code': 800, 'description': 'Clear Sky'}, 'wind_gust_spd': 13.5, 'timestamp_local': '2019-07-24T07:00:00', 'snow_depth': 0, 'clouds': 0, 'ts': 1563966000, 'wind_spd': 3.76223, 'pop': 0, 'wind_cdir_full': 'north-northwest', 'slp': 1013.89, 'dni': 302.33, 'dewpt': 12.8, 'snow': 0, 'uv': 2.11118, 'wind_dir': 349, 'clouds_hi': 0, 'precip': 0, 'vis': 24.1, 'dhi': 34.93, 'app_temp': 18.8, 'datetime': '2019-07-24:11', 'temp': 19, 'ghi': 54.12, 'clouds_mid': 0, 'clouds_low': 0}, {'wind_cdir': 'NNW', 'rh': 62, 'pod': 'd', 'timestamp_utc': '2019-07-24T12:00:00', 'pres': 989.051, 'solar_rad': 241.37, 'ozone': 319.977, 'weather': {'icon': 'c01d', 'code': 800, 'description': 'Clear Sky'}, 'wind_gust_spd': 12.7, 'timestamp_local': '2019-07-24T08:00:00', 'snow_depth': 0, 'clouds': 0, 'ts': 1563969600, 'wind_spd': 4.49551, 'pop': 0, 'wind_cdir_full': 'north-northwest', 'slp': 1014.16, 'dni': 610.9, 'dewpt': 12.5, 'snow': 0, 'uv': 2.39826, 'wind_dir': 351, 'clouds_hi': 0, 'precip': 0, 'vis': 24.1, 'dhi': 68.8, 'app_temp': 19.8, 'datetime': '2019-07-24:12', 'temp': 20.1, 'ghi': 241.37, 'clouds_mid': 0, 'clouds_low': 0}, {'wind_cdir': 'NNW', 'rh': 57, 'pod': 'd', 'timestamp_utc': '2019-07-24T13:00:00', 'pres': 989.513, 'solar_rad': 450.29, 'ozone': 317.992, 'weather': {'icon': 'c01d', 'code': 800, 'description': 'Clear Sky'}, 'wind_gust_spd': 11.1, 'timestamp_local': '2019-07-24T09:00:00', 'snow_depth': 0, 'clouds': 0, 'ts': 1563973200, 'wind_spd': 4.811, 'pop': 0, 'wind_cdir_full': 'north-northwest', 'slp': 1014.58, 'dni': 752.26, 'dewpt': 12.7, 'snow': 0, 'uv': 3.35828, 'wind_dir': 353, 'clouds_hi': 0, 'precip': 0, 'vis': 24.1, 'dhi': 89.55, 'app_temp': 21.3, 'datetime': '2019-07-24:13', 'temp': 21.6, 'ghi': 450.29, 'clouds_mid': 0, 'clouds_low': 0}, {'wind_cdir': 'N', 'rh': 54, 'pod': 'd', 'timestamp_utc': '2019-07-24T14:00:00', 'pres': 989.993, 'solar_rad': 648.79, 'ozone': 316.415, 'weather': {'icon': 'c01d', 'code': 800, 'description': 'Clear Sky'}, 'wind_gust_spd': 8.6, 'timestamp_local': '2019-07-24T10:00:00', 'snow_depth': 0, 'clouds': 0, 'ts': 1563976800, 'wind_spd': 4.72324, 'pop': 0, 'wind_cdir_full': 'north', 'slp': 1015.02, 'dni': 833.41, 'dewpt': 13.3, 'snow': 0, 'uv': 5.06521, 'wind_dir': 0, 'clouds_hi': 0, 'precip': 0, 'vis': 24.1, 'dhi': 103.84, 'app_temp': 22.9, 'datetime': '2019-07-24:14', 'temp': 23.1, 'ghi': 648.79, 'clouds_mid': 0, 'clouds_low': 0}, {'wind_cdir': 'N', 'rh': 55, 'pod': 'd', 'timestamp_utc': '2019-07-24T15:00:00', 'pres': 990.306, 'solar_rad': 816.08, 'ozone': 316.474, 'weather': {'icon': 'c01d', 'code': 800, 'description': 'Clear Sky'}, 'wind_gust_spd': 6.6, 'timestamp_local': '2019-07-24T11:00:00', 'snow_depth': 0, 'clouds': 0, 'ts': 1563980400, 'wind_spd': 4.53073, 'pop': 0, 'wind_cdir_full': 'north', 'slp': 1015.29, 'dni': 882.92, 'dewpt': 14.7, 'snow': 0, 'uv': 7.20391, 'wind_dir': 11, 'clouds_hi': 0, 'precip': 0, 'vis': 24.1, 'dhi': 113.67, 'app_temp': 24.4, 'datetime': '2019-07-24:15', 'temp': 24.4, 'ghi': 816.08, 'clouds_mid': 0, 'clouds_low': 0}, {'wind_cdir': 'N', 'rh': 54, 'pod': 'd', 'timestamp_utc': '2019-07-24T16:00:00', 'pres': 989.707, 'solar_rad': 936.61, 'ozone': 316.945, 'weather': {'icon': 'c01d', 'code': 800, 'description': 'Clear Sky'}, 'wind_gust_spd': 5.9, 'timestamp_local': '2019-07-24T12:00:00', 'snow_depth': 0, 'clouds': 0, 'ts': 1563984000, 'wind_spd': 4.07925, 'pop': 0, 'wind_cdir_full': 'north', 'slp': 1014.64, 'dni': 911.95, 'dewpt': 15.6, 'snow': 0, 'uv': 9.18534, 'wind_dir': 7, 'clouds_hi': 0, 'precip': 0, 'vis': 24.1, 'dhi': 119.9, 'app_temp': 25.7, 'datetime': '2019-07-24:16', 'temp': 25.7, 'ghi': 936.61, 'clouds_mid': 0, 'clouds_low': 0}, {'wind_cdir': 'N', 'rh': 52, 'pod': 'd', 'timestamp_utc': '2019-07-24T17:00:00', 'pres': 989.528, 'solar_rad': 999.75, 'ozone': 317.534, 'weather': {'icon': 'c01d', 'code': 800, 'description': 'Clear Sky'}, 'wind_gust_spd': 5, 'timestamp_local': '2019-07-24T13:00:00', 'snow_depth': 0, 'clouds': 0, 'ts': 1563987600, 'wind_spd': 3.78415, 'pop': 0, 'wind_cdir_full': 'north', 'slp': 1014.41, 'dni': 925.5, 'dewpt': 16, 'snow': 0, 'uv': 10.379, 'wind_dir': 5, 'clouds_hi': 0, 'precip': 0, 'vis': 24.1, 'dhi': 122.94, 'app_temp': 27.4, 'datetime': '2019-07-24:17', 'temp': 26.8, 'ghi': 999.75, 'clouds_mid': 0, 'clouds_low': 0}, {'wind_cdir': 'NNW', 'rh': 50, 'pod': 'd', 'timestamp_utc': '2019-07-24T18:00:00', 'pres': 989.204, 'solar_rad': 1000.04, 'ozone': 317.099, 'weather': {'icon': 'c01d', 'code': 800, 'description': 'Clear Sky'}, 'wind_gust_spd': 4.8, 'timestamp_local': '2019-07-24T14:00:00', 'snow_depth': 0, 'clouds': 0, 'ts': 1563991200, 'wind_spd': 3.6517, 'pop': 0, 'wind_cdir_full': 'north-northwest', 'slp': 1014.04, 'dni': 925.56, 'dewpt': 16.2, 'snow': 0, 'uv': 10.386, 'wind_dir': 360, 'clouds_hi': 0, 'precip': 0, 'vis': 24.1, 'dhi': 122.95, 'app_temp': 28.2, 'datetime': '2019-07-24:18', 'temp': 27.8, 'ghi': 1000.04, 'clouds_mid': 0, 'clouds_low': 0}, {'wind_cdir': 'NNW', 'rh': 43, 'pod': 'd', 'timestamp_utc': '2019-07-24T19:00:00', 'pres': 988.663, 'solar_rad': 937.44, 'ozone': 316.988, 'weather': {'icon': 'c01d', 'code': 800, 'description': 'Clear Sky'}, 'wind_gust_spd': 4.1, 'timestamp_local': '2019-07-24T15:00:00', 'snow_depth': 0, 'clouds': 1, 'ts': 1563994800, 'wind_spd': 3.76665, 'pop': 0, 'wind_cdir_full': 'north-northwest', 'slp': 1013.47, 'dni': 912.14, 'dewpt': 14.7, 'snow': 0, 'uv': 9.13652, 'wind_dir': 357, 'clouds_hi': 0, 'precip': 0, 'vis': 24.1, 'dhi': 119.94, 'app_temp': 28.3, 'datetime': '2019-07-24:19', 'temp': 28.4, 'ghi': 937.44, 'clouds_mid': 0, 'clouds_low': 1}, {'wind_cdir': 'N', 'rh': 43, 'pod': 'd', 'timestamp_utc': '2019-07-24T20:00:00', 'pres': 988.19, 'solar_rad': 817.297, 'ozone': 317.094, 'weather': {'icon': 'c02d', 'code': 801, 'description': 'Few clouds'}, 'wind_gust_spd': 4.3, 'timestamp_local': '2019-07-24T16:00:00', 'snow_depth': 0, 'clouds': 6, 'ts': 1563998400, 'wind_spd': 3.94671, 'pop': 0, 'wind_cdir_full': 'north', 'slp': 1012.96, 'dni': 883.25, 'dewpt': 14.7, 'snow': 0, 'uv': 6.9221, 'wind_dir': 1, 'clouds_hi': 0, 'precip': 0, 'vis': 24.1, 'dhi': 113.74, 'app_temp': 28.5, 'datetime': '2019-07-24:20', 'temp': 28.7, 'ghi': 817.34, 'clouds_mid': 0, 'clouds_low': 6}, {'wind_cdir': 'N', 'rh': 42, 'pod': 'd', 'timestamp_utc': '2019-07-24T21:00:00', 'pres': 988.27, 'solar_rad': 647.013, 'ozone': 318.196, 'weather': {'icon': 'c02d', 'code': 802, 'description': 'Scattered clouds'}, 'wind_gust_spd': 4.5, 'timestamp_local': '2019-07-24T17:00:00', 'snow_depth': 0, 'clouds': 23, 'ts': 1564002000, 'wind_spd': 4.20571, 'pop': 0, 'wind_cdir_full': 'north', 'slp': 1013.04, 'dni': 833.92, 'dewpt': 14.3, 'snow': 0, 'uv': 4.27181, 'wind_dir': 0, 'clouds_hi': 0, 'precip': 0, 'vis': 24.1, 'dhi': 103.93, 'app_temp': 28.3, 'datetime': '2019-07-24:21', 'temp': 28.6, 'ghi': 650.31, 'clouds_mid': 0, 'clouds_low': 23}, {'wind_cdir': 'N', 'rh': 46, 'pod': 'd', 'timestamp_utc': '2019-07-24T22:00:00', 'pres': 988.562, 'solar_rad': 451.163, 'ozone': 316.23, 'weather': {'icon': 'c02d', 'code': 801, 'description': 'Few clouds'}, 'wind_gust_spd': 4.5, 'timestamp_local': '2019-07-24T18:00:00', 'snow_depth': 0, 'clouds': 16, 'ts': 1564005600, 'wind_spd': 4.26925, 'pop': 0, 'wind_cdir_full': 'north', 'slp': 1013.35, 'dni': 753.03, 'dewpt': 15.2, 'snow': 0, 'uv': 2.99992, 'wind_dir': 3, 'clouds_hi': 0, 'precip': 0, 'vis': 24.1, 'dhi': 89.67, 'app_temp': 28.1, 'datetime': '2019-07-24:22', 'temp': 28, 'ghi': 451.83, 'clouds_mid': 0, 'clouds_low': 16}, {'wind_cdir': 'N', 'rh': 51, 'pod': 'd', 'timestamp_utc': '2019-07-24T23:00:00', 'pres': 988.954, 'solar_rad': 242.619, 'ozone': 313.168, 'weather': {'icon': 'c02d', 'code': 801, 'description': 'Few clouds'}, 'wind_gust_spd': 4.7, 'timestamp_local': '2019-07-24T19:00:00', 'snow_depth': 0, 'clouds': 9, 'ts': 1564009200, 'wind_spd': 4.04954, 'pop': 0, 'wind_cdir_full': 'north', 'slp': 1013.76, 'dni': 612.12, 'dewpt': 16.1, 'snow': 0, 'uv': 2.26695, 'wind_dir': 6, 'clouds_hi': 0, 'precip': 0, 'vis': 24.1, 'dhi': 68.96, 'app_temp': 27.7, 'datetime': '2019-07-24:23', 'temp': 27.3, 'ghi': 242.67, 'clouds_mid': 0, 'clouds_low': 9}, {'wind_cdir': 'NNE', 'rh': 56, 'pod': 'd', 'timestamp_utc': '2019-07-25T00:00:00', 'pres': 989.442, 'solar_rad': 54.707, 'ozone': 312.328, 'weather': {'icon': 'c02d', 'code': 801, 'description': 'Few clouds'}, 'wind_gust_spd': 4.8, 'timestamp_local': '2019-07-24T20:00:00', 'snow_depth': 0, 'clouds': 20, 'ts': 1564012800, 'wind_spd': 3.50068, 'pop': 0, 'wind_cdir_full': 'north-northeast', 'slp': 1014.29, 'dni': 304.81, 'dewpt': 16.4, 'snow': 0, 'uv': 1.83692, 'wind_dir': 13, 'clouds_hi': 0, 'precip': 0, 'vis': 24.1, 'dhi': 35.17, 'app_temp': 26.3, 'datetime': '2019-07-25:00', 'temp': 26.2, 'ghi': 54.88, 'clouds_mid': 0, 'clouds_low': 20}, {'wind_cdir': 'N', 'rh': 60, 'pod': 'n', 'timestamp_utc': '2019-07-25T01:00:00', 'pres': 990.489, 'solar_rad': 0, 'ozone': 312.958, 'weather': {'icon': 'c03n', 'code': 803, 'description': 'Broken clouds'}, 'wind_gust_spd': 5.5, 'timestamp_local': '2019-07-24T21:00:00', 'snow_depth': 0, 'clouds': 42, 'ts': 1564016400, 'wind_spd': 3.59485, 'pop': 0, 'wind_cdir_full': 'north', 'slp': 1015.4, 'dni': 0, 'dewpt': 16.8, 'snow': 0, 'uv': 0, 'wind_dir': 5, 'clouds_hi': 0, 'precip': 0, 'vis': 9.2, 'dhi': 0, 'app_temp': 25.2, 'datetime': '2019-07-25:01', 'temp': 25.1, 'ghi': 0, 'clouds_mid': 0, 'clouds_low': 42}, {'wind_cdir': 'NNE', 'rh': 63, 'pod': 'n', 'timestamp_utc': '2019-07-25T02:00:00', 'pres': 990.826, 'solar_rad': 0, 'ozone': 314.4, 'weather': {'icon': 'c02n', 'code': 802, 'description': 'Scattered clouds'}, 'wind_gust_spd': 4.5, 'timestamp_local': '2019-07-24T22:00:00', 'snow_depth': 0, 'clouds': 26, 'ts': 1564020000, 'wind_spd': 2.19835, 'pop': 35, 'wind_cdir_full': 'north-northeast', 'slp': 1015.73, 'dni': 0, 'dewpt': 17.6, 'snow': 0, 'uv': 0, 'wind_dir': 18, 'clouds_hi': 0, 'precip': 0.5, 'vis': 24.1, 'dhi': 0, 'app_temp': 25.4, 'datetime': '2019-07-25:02', 'temp': 25.2, 'ghi': 0, 'clouds_mid': 0, 'clouds_low': 26}, {'wind_cdir': 'NNE', 'rh': 69, 'pod': 'n', 'timestamp_utc': '2019-07-25T03:00:00', 'pres': 991.169, 'solar_rad': 0, 'ozone': 315.196, 'weather': {'icon': 'c02n', 'code': 802, 'description': 'Scattered clouds'}, 'wind_gust_spd': 6.6, 'timestamp_local': '2019-07-24T23:00:00', 'snow_depth': 0, 'clouds': 26, 'ts': 1564023600, 'wind_spd': 2.46408, 'pop': 0, 'wind_cdir_full': 'north-northeast', 'slp': 1016.13, 'dni': 0, 'dewpt': 17.9, 'snow': 0, 'uv': 0, 'wind_dir': 27, 'clouds_hi': 0, 'precip': 0, 'vis': 24.1, 'dhi': 0, 'app_temp': 24.2, 'datetime': '2019-07-25:03', 'temp': 23.9, 'ghi': 0, 'clouds_mid': 0, 'clouds_low': 26}, {'wind_cdir': 'NNE', 'rh': 68, 'pod': 'n', 'timestamp_utc': '2019-07-25T04:00:00', 'pres': 991.408, 'solar_rad': 0, 'ozone': 317.118, 'weather': {'icon': 'c02n', 'code': 801, 'description': 'Few clouds'}, 'wind_gust_spd': 6.2, 'timestamp_local': '2019-07-25T00:00:00', 'snow_depth': 0, 'clouds': 18, 'ts': 1564027200, 'wind_spd': 2.97186, 'pop': 0, 'wind_cdir_full': 'north-northeast', 'slp': 1016.4, 'dni': 0, 'dewpt': 17, 'snow': 0, 'uv': 0, 'wind_dir': 24, 'clouds_hi': 0, 'precip': 0, 'vis': 24.1, 'dhi': 0, 'app_temp': 23.6, 'datetime': '2019-07-25:04', 'temp': 23.4, 'ghi': 0, 'clouds_mid': 0, 'clouds_low': 18}, {'wind_cdir': 'NE', 'rh': 78, 'pod': 'n', 'timestamp_utc': '2019-07-25T05:00:00', 'pres': 991.161, 'solar_rad': 0, 'ozone': 318.9, 'weather': {'icon': 'c02n', 'code': 802, 'description': 'Scattered clouds'}, 'wind_gust_spd': 5.4, 'timestamp_local': '2019-07-25T01:00:00', 'snow_depth': 0, 'clouds': 25, 'ts': 1564030800, 'wind_spd': 2.22087, 'pop': 0, 'wind_cdir_full': 'northeast', 'slp': 1016.18, 'dni': 0, 'dewpt': 18.1, 'snow': 0, 'uv': 0, 'wind_dir': 36, 'clouds_hi': 0, 'precip': 0, 'vis': 24.1, 'dhi': 0, 'app_temp': 22.6, 'datetime': '2019-07-25:05', 'temp': 22.2, 'ghi': 0, 'clouds_mid': 0, 'clouds_low': 25}, {'wind_cdir': 'N', 'rh': 78, 'pod': 'n', 'timestamp_utc': '2019-07-25T06:00:00', 'pres': 991.134, 'solar_rad': 0, 'ozone': 316.398, 'weather': {'icon': 'c02n', 'code': 801, 'description': 'Few clouds'}, 'wind_gust_spd': 4.5, 'timestamp_local': '2019-07-25T02:00:00', 'snow_depth': 0, 'clouds': 17, 'ts': 1564034400, 'wind_spd': 1.8053, 'pop': 0, 'wind_cdir_full': 'north', 'slp': 1016.15, 'dni': 0, 'dewpt': 18.4, 'snow': 0, 'uv': 0, 'wind_dir': 8, 'clouds_hi': 0, 'precip': 0, 'vis': 24.1, 'dhi': 0, 'app_temp': 22.9, 'datetime': '2019-07-25:06', 'temp': 22.5, 'ghi': 0, 'clouds_mid': 0, 'clouds_low': 17}, {'wind_cdir': 'NNW', 'rh': 82, 'pod': 'n', 'timestamp_utc': '2019-07-25T07:00:00', 'pres': 991.487, 'solar_rad': 0, 'ozone': 316.149, 'weather': {'icon': 'c02n', 'code': 801, 'description': 'Few clouds'}, 'wind_gust_spd': 4.4, 'timestamp_local': '2019-07-25T03:00:00', 'snow_depth': 0, 'clouds': 15, 'ts': 1564038000, 'wind_spd': 1.6151, 'pop': 0, 'wind_cdir_full': 'north-northwest', 'slp': 1016.52, 'dni': 0, 'dewpt': 18.6, 'snow': 0, 'uv': 0, 'wind_dir': 359, 'clouds_hi': 0, 'precip': 0, 'vis': 24.1, 'dhi': 0, 'app_temp': 22.3, 'datetime': '2019-07-25:07', 'temp': 21.9, 'ghi': 0, 'clouds_mid': 0, 'clouds_low': 15}, {'wind_cdir': 'NNW', 'rh': 82, 'pod': 'n', 'timestamp_utc': '2019-07-25T08:00:00', 'pres': 991.49, 'solar_rad': 0, 'ozone': 317.107, 'weather': {'icon': 'c02n', 'code': 801, 'description': 'Few clouds'}, 'wind_gust_spd': 5.8, 'timestamp_local': '2019-07-25T04:00:00', 'snow_depth': 0, 'clouds': 6, 'ts': 1564041600, 'wind_spd': 2.03119, 'pop': 0, 'wind_cdir_full': 'north-northwest', 'slp': 1016.56, 'dni': 0, 'dewpt': 18.1, 'snow': 0, 'uv': 0, 'wind_dir': 355, 'clouds_hi': 0, 'precip': 0, 'vis': 24.1, 'dhi': 0, 'app_temp': 21.6, 'datetime': '2019-07-25:08', 'temp': 21.3, 'ghi': 0, 'clouds_mid': 0, 'clouds_low': 6}, {'wind_cdir': 'NNW', 'rh': 80, 'pod': 'n', 'timestamp_utc': '2019-07-25T09:00:00', 'pres': 991.816, 'solar_rad': 0, 'ozone': 317.339, 'weather': {'icon': 'c01n', 'code': 800, 'description': 'Clear Sky'}, 'wind_gust_spd': 6.4, 'timestamp_local': '2019-07-25T05:00:00', 'snow_depth': 0, 'clouds': 0, 'ts': 1564045200, 'wind_spd': 2.58238, 'pop': 0, 'wind_cdir_full': 'north-northwest', 'slp': 1016.92, 'dni': 0, 'dewpt': 17.1, 'snow': 0, 'uv': 0, 'wind_dir': 357, 'clouds_hi': 0, 'precip': 0, 'vis': 24.1, 'dhi': 0, 'app_temp': 21, 'datetime': '2019-07-25:09', 'temp': 20.8, 'ghi': 0, 'clouds_mid': 0, 'clouds_low': 0}, {'wind_cdir': 'N', 'rh': 79, 'pod': 'n', 'timestamp_utc': '2019-07-25T10:00:00', 'pres': 992.578, 'solar_rad': 0, 'ozone': 318.882, 'weather': {'icon': 'c01n', 'code': 800, 'description': 'Clear Sky'}, 'wind_gust_spd': 6.5, 'timestamp_local': '2019-07-25T06:00:00', 'snow_depth': 0, 'clouds': 0, 'ts': 1564048800, 'wind_spd': 2.80756, 'pop': 0, 'wind_cdir_full': 'north', 'slp': 1017.74, 'dni': 0, 'dewpt': 16.1, 'snow': 0, 'uv': 0, 'wind_dir': 4, 'clouds_hi': 0, 'precip': 0, 'vis': 24.1, 'dhi': 0, 'app_temp': 20.1, 'datetime': '2019-07-25:10', 'temp': 20, 'ghi': 0, 'clouds_mid': 0, 'clouds_low': 0}, {'wind_cdir': 'N', 'rh': 78, 'pod': 'd', 'timestamp_utc': '2019-07-25T11:00:00', 'pres': 993.168, 'solar_rad': 52.41, 'ozone': 319.096, 'weather': {'icon': 'c01d', 'code': 800, 'description': 'Clear Sky'}, 'wind_gust_spd': 8.1, 'timestamp_local': '2019-07-25T07:00:00', 'snow_depth': 0, 'clouds': 0, 'ts': 1564052400, 'wind_spd': 2.59897, 'pop': 0, 'wind_cdir_full': 'north', 'slp': 1018.37, 'dni': 296.76, 'dewpt': 15.6, 'snow': 0, 'uv': 2.11471, 'wind_dir': 5, 'clouds_hi': 0, 'precip': 0, 'vis': 24.1, 'dhi': 34.41, 'app_temp': 19.7, 'datetime': '2019-07-25:11', 'temp': 19.6, 'ghi': 52.41, 'clouds_mid': 0, 'clouds_low': 0}, {'wind_cdir': 'N', 'rh': 69, 'pod': 'd', 'timestamp_utc': '2019-07-25T12:00:00', 'pres': 993.331, 'solar_rad': 239.409, 'ozone': 318.873, 'weather': {'icon': 'c02d', 'code': 801, 'description': 'Few clouds'}, 'wind_gust_spd': 6.5, 'timestamp_local': '2019-07-25T08:00:00', 'snow_depth': 0, 'clouds': 3, 'ts': 1564056000, 'wind_spd': 2.87182, 'pop': 0, 'wind_cdir_full': 'north', 'slp': 1018.5, 'dni': 609.14, 'dewpt': 14.8, 'snow': 0, 'uv': 2.3455, 'wind_dir': 8, 'clouds_hi': 3, 'precip': 0, 'vis': 24.1, 'dhi': 68.57, 'app_temp': 20.8, 'datetime': '2019-07-25:12', 'temp': 20.9, 'ghi': 239.41, 'clouds_mid': 0, 'clouds_low': 0}, {'wind_cdir': 'NNE', 'rh': 62, 'pod': 'd', 'timestamp_utc': '2019-07-25T13:00:00', 'pres': 993.97, 'solar_rad': 448.5, 'ozone': 318.6, 'weather': {'icon': 'c01d', 'code': 800, 'description': 'Clear Sky'}, 'wind_gust_spd': 4.9, 'timestamp_local': '2019-07-25T09:00:00', 'snow_depth': 0, 'clouds': 0, 'ts': 1564059600, 'wind_spd': 3.05407, 'pop': 0, 'wind_cdir_full': 'north-northeast', 'slp': 1019.1, 'dni': 751.47, 'dewpt': 15, 'snow': 0, 'uv': 3.34502, 'wind_dir': 16, 'clouds_hi': 0, 'precip': 0, 'vis': 24.1, 'dhi': 89.41, 'app_temp': 22.6, 'datetime': '2019-07-25:13', 'temp': 22.7, 'ghi': 448.5, 'clouds_mid': 0, 'clouds_low': 0}, {'wind_cdir': 'NNE', 'rh': 57, 'pod': 'd', 'timestamp_utc': '2019-07-25T14:00:00', 'pres': 994.523, 'solar_rad': 647.24, 'ozone': 317.398, 'weather': {'icon': 'c01d', 'code': 800, 'description': 'Clear Sky'}, 'wind_gust_spd': 4.4, 'timestamp_local': '2019-07-25T10:00:00', 'snow_depth': 0, 'clouds': 0, 'ts': 1564063200, 'wind_spd': 2.52364, 'pop': 0, 'wind_cdir_full': 'north-northeast', 'slp': 1019.6, 'dni': 833.01, 'dewpt': 15.3, 'snow': 0, 'uv': 5.04556, 'wind_dir': 23, 'clouds_hi': 0, 'precip': 0, 'vis': 24.1, 'dhi': 103.75, 'app_temp': 24.6, 'datetime': '2019-07-25:14', 'temp': 24.6, 'ghi': 647.24, 'clouds_mid': 0, 'clouds_low': 0}, {'wind_cdir': 'NNE', 'rh': 51, 'pod': 'd', 'timestamp_utc': '2019-07-25T15:00:00', 'pres': 994.742, 'solar_rad': 814.727, 'ozone': 315.705, 'weather': {'icon': 'c02d', 'code': 801, 'description': 'Few clouds'}, 'wind_gust_spd': 3, 'timestamp_local': '2019-07-25T11:00:00', 'snow_depth': 0, 'clouds': 5, 'ts': 1564066800, 'wind_spd': 2.33099, 'pop': 0, 'wind_cdir_full': 'north-northeast', 'slp': 1019.76, 'dni': 882.7, 'dewpt': 15.3, 'snow': 0, 'uv': 6.9367, 'wind_dir': 33, 'clouds_hi': 5, 'precip': 0, 'vis': 24.1, 'dhi': 113.61, 'app_temp': 26.5, 'datetime': '2019-07-25:15', 'temp': 26.4, 'ghi': 814.75, 'clouds_mid': 0, 'clouds_low': 0}, {'wind_cdir': 'NE', 'rh': 46, 'pod': 'd', 'timestamp_utc': '2019-07-25T16:00:00', 'pres': 994.265, 'solar_rad': 925.021, 'ozone': 315.209, 'weather': {'icon': 'c02d', 'code': 802, 'description': 'Scattered clouds'}, 'wind_gust_spd': 2.7, 'timestamp_local': '2019-07-25T12:00:00', 'snow_depth': 0, 'clouds': 29, 'ts': 1564070400, 'wind_spd': 2.48623, 'pop': 0, 'wind_cdir_full': 'northeast', 'slp': 1019.24, 'dni': 911.83, 'dewpt': 14.8, 'snow': 0, 'uv': 7.33214, 'wind_dir': 38, 'clouds_hi': 21, 'precip': 0, 'vis': 24.1, 'dhi': 119.86, 'app_temp': 27.7, 'datetime': '2019-07-25:16', 'temp': 27.6, 'ghi': 935.45, 'clouds_mid': 0, 'clouds_low': 29}, {'wind_cdir': 'NE', 'rh': 44, 'pod': 'd', 'timestamp_utc': '2019-07-25T17:00:00', 'pres': 994.14, 'solar_rad': 949.098, 'ozone': 314.391, 'weather': {'icon': 'c03d', 'code': 803, 'description': 'Broken clouds'}, 'wind_gust_spd': 2.4, 'timestamp_local': '2019-07-25T13:00:00', 'snow_depth': 0, 'clouds': 45, 'ts': 1564074000, 'wind_spd': 2.39989, 'pop': 0, 'wind_cdir_full': 'northeast', 'slp': 1019.08, 'dni': 925.42, 'dewpt': 14.7, 'snow': 0, 'uv': 7.14533, 'wind_dir': 34, 'clouds_hi': 8, 'precip': 0, 'vis': 24.1, 'dhi': 122.9, 'app_temp': 28.3, 'datetime': '2019-07-25:17', 'temp': 28.3, 'ghi': 998.69, 'clouds_mid': 0, 'clouds_low': 45}, {'wind_cdir': 'NNE', 'rh': 45, 'pod': 'd', 'timestamp_utc': '2019-07-25T18:00:00', 'pres': 994.294, 'solar_rad': 677.066, 'ozone': 314.947, 'weather': {'icon': 'c04d', 'code': 804, 'description': 'Overcast clouds'}, 'wind_gust_spd': 2.2, 'timestamp_local': '2019-07-25T14:00:00', 'snow_depth': 0, 'clouds': 78, 'ts': 1564077600, 'wind_spd': 2.27594, 'pop': 0, 'wind_cdir_full': 'north-northeast', 'slp': 1019.23, 'dni': 925.48, 'dewpt': 14.9, 'snow': 0, 'uv': 4.78784, 'wind_dir': 29, 'clouds_hi': 46, 'precip': 0, 'vis': 24.1, 'dhi': 122.92, 'app_temp': 28.1, 'datetime': '2019-07-25:18', 'temp': 28, 'ghi': 998.98, 'clouds_mid': 0, 'clouds_low': 78}], 'city_name': 'Charlotte', 'lon': -80.82, 'timezone': 'America/New_York', 'lat': 35.22, 'country_code': 'US', 'state_code': 'NC'}\n"
     ]
    }
   ],
   "source": [
    "print(data)"
   ]
  },
  {
   "cell_type": "code",
   "execution_count": 33,
   "metadata": {},
   "outputs": [],
   "source": [
    " current_solar_rad = data['data'][0]['solar_rad']"
   ]
  },
  {
   "cell_type": "code",
   "execution_count": 35,
   "metadata": {},
   "outputs": [
    {
     "name": "stdout",
     "output_type": "stream",
     "text": [
      "next hour: 2019-07-23T14:00:00\n",
      "Temperature: 29.2\n",
      "\n",
      "2nd hour: 2019-07-23T15:00:00\n",
      "Temperature: 19.9\n",
      "\n",
      "3rd hour: 2019-07-23T16:00:00\n",
      "Temperature: 20.9\n",
      "\n",
      "4th hour: 2019-07-23T17:00:00\n",
      "Temperature: 22\n"
     ]
    }
   ],
   "source": [
    "temp = data['data'][0]['temp']\n",
    "time = data['data'][0]['timestamp_local']\n",
    "print('next hour: %s' % time)\n",
    "print('Temperature: %s' % temp)\n",
    "print('')\n",
    "temp = data['data'][1]['temp']\n",
    "time = data['data'][1]['timestamp_local']\n",
    "print('2nd hour: %s' % time)\n",
    "print('Temperature: %s' % temp)\n",
    "print('')\n",
    "temp = data['data'][2]['temp']\n",
    "time = data['data'][2]['timestamp_local']\n",
    "print('3rd hour: %s' % time)\n",
    "print('Temperature: %s' % temp)\n",
    "print('')\n",
    "temp = data['data'][3]['temp']\n",
    "time = data['data'][3]['timestamp_local']\n",
    "print('4th hour: %s' % time)\n",
    "print('Temperature: %s' % temp)"
   ]
  },
  {
   "cell_type": "code",
   "execution_count": null,
   "metadata": {},
   "outputs": [],
   "source": [
    "import tweepy as tw\n",
    "import pandas as pd\n",
    "\n",
    "consumer_key = ''\n",
    "consumer_secret = ''\n",
    "access_token = ''\n",
    "access_token_secret = ''"
   ]
  },
  {
   "cell_type": "code",
   "execution_count": null,
   "metadata": {},
   "outputs": [],
   "source": [
    "auth = tweepy.OAuthHandler(consumer_key, consumer_secret)\n",
    "auth.set_access_token(access_token, access_token_secret)\n",
    "api = tw.API(auth, wait_on_rate_limit=True)"
   ]
  },
  {
   "cell_type": "code",
   "execution_count": null,
   "metadata": {},
   "outputs": [],
   "source": [
    "public_tweets = api.home_timeline()\n",
    "for tweet in public tweets:\n",
    "    print(tweet.text)"
   ]
  },
  {
   "cell_type": "code",
   "execution_count": null,
   "metadata": {},
   "outputs": [],
   "source": [
    "search_words = '#wildfires'\n",
    "date_since = '2018-11-16'"
   ]
  },
  {
   "cell_type": "code",
   "execution_count": null,
   "metadata": {},
   "outputs": [],
   "source": [
    "tweets = tw.Cursor(api.search,\n",
    "                  q=search_words,\n",
    "                  lang='en',\n",
    "                  since=date_since.items(5))\n",
    "print(tweets)"
   ]
  },
  {
   "cell_type": "code",
   "execution_count": null,
   "metadata": {},
   "outputs": [],
   "source": []
  }
 ],
 "metadata": {
  "kernelspec": {
   "display_name": "Python 3",
   "language": "python",
   "name": "python3"
  },
  "language_info": {
   "codemirror_mode": {
    "name": "ipython",
    "version": 3
   },
   "file_extension": ".py",
   "mimetype": "text/x-python",
   "name": "python",
   "nbconvert_exporter": "python",
   "pygments_lexer": "ipython3",
   "version": "3.7.3"
  }
 },
 "nbformat": 4,
 "nbformat_minor": 2
}
