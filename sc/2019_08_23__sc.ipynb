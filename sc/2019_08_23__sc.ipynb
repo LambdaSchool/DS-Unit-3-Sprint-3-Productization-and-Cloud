{
  "nbformat": 4,
  "nbformat_minor": 0,
  "metadata": {
    "colab": {
      "name": "2019-08-23 _sc.ipynb",
      "version": "0.3.2",
      "provenance": [],
      "collapsed_sections": [],
      "toc_visible": true,
      "include_colab_link": true
    },
    "kernelspec": {
      "name": "python3",
      "display_name": "Python 3"
    }
  },
  "cells": [
    {
      "cell_type": "markdown",
      "metadata": {
        "id": "view-in-github",
        "colab_type": "text"
      },
      "source": [
        "<a href=\"https://colab.research.google.com/github/Nov05/DS-Unit-3-Sprint-3-Productization-and-Cloud/blob/master/sc/2019_08_23__sc.ipynb\" target=\"_parent\"><img src=\"https://colab.research.google.com/assets/colab-badge.svg\" alt=\"Open In Colab\"/></a>"
      ]
    },
    {
      "cell_type": "code",
      "metadata": {
        "id": "Nn_Mij7bAOSB",
        "colab_type": "code",
        "colab": {}
      },
      "source": [
        "# created by nov05 on 2019-08-23"
      ],
      "execution_count": 0,
      "outputs": []
    },
    {
      "cell_type": "code",
      "metadata": {
        "id": "d9rn-fpbA5KQ",
        "colab_type": "code",
        "colab": {}
      },
      "source": [
        "from google.colab import drive\n",
        "drive.mount('/content/drive')"
      ],
      "execution_count": 0,
      "outputs": []
    },
    {
      "cell_type": "code",
      "metadata": {
        "id": "IFC1wg0yC5JA",
        "colab_type": "code",
        "colab": {}
      },
      "source": [
        "### Install ngrok\n",
        "!wget https://bin.equinox.io/c/4VmDzA7iaHb/ngrok-stable-linux-amd64.zip\n",
        "!unzip ngrok-stable-linux-amd64.zip"
      ],
      "execution_count": 0,
      "outputs": []
    },
    {
      "cell_type": "code",
      "metadata": {
        "id": "CRCyI4iHXkb4",
        "colab_type": "code",
        "colab": {}
      },
      "source": [
        "!pip install flask_sqlalchemy"
      ],
      "execution_count": 0,
      "outputs": []
    },
    {
      "cell_type": "markdown",
      "metadata": {
        "id": "7UEwH-eWBnC5",
        "colab_type": "text"
      },
      "source": [
        "# Part 1 - If I could put Flask in a File"
      ]
    },
    {
      "cell_type": "markdown",
      "metadata": {
        "id": "iWOhit_dF84D",
        "colab_type": "text"
      },
      "source": [
        "## Setup virtualenv"
      ]
    },
    {
      "cell_type": "code",
      "metadata": {
        "id": "Hn6q8tSXDWsI",
        "colab_type": "code",
        "colab": {}
      },
      "source": [
        "# setup virtualenv\n",
        "!pip install pipenv\n",
        "%cd /content/openairapp\n",
        "!pipenv install\n",
        "# Virtualenv location: /root/.local/share/virtualenvs/openairapp-pwZ5uIYs"
      ],
      "execution_count": 0,
      "outputs": []
    },
    {
      "cell_type": "code",
      "metadata": {
        "id": "SQ_1hRsrD_vH",
        "colab_type": "code",
        "outputId": "de467e80-150a-4982-fdaa-a093d3306edb",
        "colab": {
          "base_uri": "https://localhost:8080/",
          "height": 105
        }
      },
      "source": [
        "# check virtualenvs\n",
        "%cd /root/.local/share/virtualenvs\n",
        "# !rm -rf Pipfile\n",
        "!ls -lha"
      ],
      "execution_count": 0,
      "outputs": [
        {
          "output_type": "stream",
          "text": [
            "/root/.local/share/virtualenvs\n",
            "total 16K\n",
            "drwxr-xr-x 3 root root 4.0K Aug 23 15:21 .\n",
            "drwx------ 1 root root 4.0K Aug 23 15:17 ..\n",
            "drwxr-xr-x 5 root root 4.0K Aug 23 15:17 openairapp-pwZ5uIYs\n"
          ],
          "name": "stdout"
        }
      ]
    },
    {
      "cell_type": "code",
      "metadata": {
        "id": "nMO3-r9-DuDt",
        "colab_type": "code",
        "outputId": "caa4069c-ac01-4d59-d683-1656eef1e107",
        "colab": {
          "base_uri": "https://localhost:8080/",
          "height": 580
        }
      },
      "source": [
        "%cd /content\n",
        "get_ipython().system_raw('./ngrok http 5000 &')\n",
        "! curl -s http://localhost:4040/api/tunnels | python3 -c \\\n",
        "\"import sys, json; print(json.load(sys.stdin)['tunnels'][0]['public_url'])\"\n",
        "%cd /content/openairapp\n",
        "!pipenv shell"
      ],
      "execution_count": 0,
      "outputs": [
        {
          "output_type": "stream",
          "text": [
            "/content\n",
            "https://8a0361ec.ngrok.io\n",
            "[Errno 2] No such file or directory: '/content/openairapp'\n",
            "/content\n",
            "Launching subshell in virtual environment…\n",
            "in/activate\n",
            "y requests gunicorn\n",
            "\u001b[39m\u001b[1mInstalling \u001b[32m\u001b[1mnumpy\u001b[39m\u001b[22m…\u001b[39m\u001b[22m\n",
            "\u001b[K\u001b[39m\u001b[1mAdding\u001b[39m\u001b[22m \u001b[32m\u001b[1mnumpy\u001b[39m\u001b[22m \u001b[39m\u001b[1mto Pipfile's\u001b[39m\u001b[22m \u001b[31m\u001b[1m[packages]\u001b[39m\u001b[22m\u001b[39m\u001b[1m…\u001b[39m\u001b[22m\n",
            "\u001b[K\u001b[?25h✔ Installation Succeeded\u001b[0m \n",
            "\u001b[39m\u001b[1mInstalling \u001b[32m\u001b[1mflask\u001b[39m\u001b[22m…\u001b[39m\u001b[22m\n",
            "\u001b[K\u001b[39m\u001b[1mAdding\u001b[39m\u001b[22m \u001b[32m\u001b[1mflask\u001b[39m\u001b[22m \u001b[39m\u001b[1mto Pipfile's\u001b[39m\u001b[22m \u001b[31m\u001b[1m[packages]\u001b[39m\u001b[22m\u001b[39m\u001b[1m…\u001b[39m\u001b[22m\n",
            "\u001b[K\u001b[?25h✔ Installation Succeeded\u001b[0m \n",
            "\u001b[39m\u001b[1mInstalling \u001b[32m\u001b[1mflask-sqlalchemy\u001b[39m\u001b[22m…\u001b[39m\u001b[22m\n",
            "\u001b[K\u001b[39m\u001b[1mAdding\u001b[39m\u001b[22m \u001b[32m\u001b[1mflask-sqlalchemy\u001b[39m\u001b[22m \u001b[39m\u001b[1mto Pipfile's\u001b[39m\u001b[22m \u001b[31m\u001b[1m[packages]\u001b[39m\u001b[22m\u001b[39m\u001b[1m…\u001b[39m\u001b[22m\n",
            "\u001b[K\u001b[?25h✔ Installation Succeeded\u001b[0m \n",
            "\u001b[39m\u001b[1mInstalling \u001b[32m\u001b[1mrequests\u001b[39m\u001b[22m…\u001b[39m\u001b[22m\n",
            "\u001b[K\u001b[39m\u001b[1mAdding\u001b[39m\u001b[22m \u001b[32m\u001b[1mrequests\u001b[39m\u001b[22m \u001b[39m\u001b[1mto Pipfile's\u001b[39m\u001b[22m \u001b[31m\u001b[1m[packages]\u001b[39m\u001b[22m\u001b[39m\u001b[1m…\u001b[39m\u001b[22m\n",
            "\u001b[K\u001b[?25h✔ Installation Succeeded\u001b[0m \n",
            "\u001b[39m\u001b[1mInstalling \u001b[32m\u001b[1mgunicorn\u001b[39m\u001b[22m…\u001b[39m\u001b[22m\n",
            "\u001b[K\u001b[39m\u001b[1mAdding\u001b[39m\u001b[22m \u001b[32m\u001b[1mgunicorn\u001b[39m\u001b[22m \u001b[39m\u001b[1mto Pipfile's\u001b[39m\u001b[22m \u001b[31m\u001b[1m[packages]\u001b[39m\u001b[22m\u001b[39m\u001b[1m…\u001b[39m\u001b[22m\n",
            "\u001b[K\u001b[?25h✔ Installation Succeeded\u001b[0m \n",
            "\u001b[31m\u001b[1mPipfile.lock (edf75b) out of date, updating to (ca72e7)…\u001b[39m\u001b[22m\n",
            "\u001b[39m\u001b[22mLocking\u001b[39m\u001b[22m \u001b[31m\u001b[22m[dev-packages]\u001b[39m\u001b[22m \u001b[39m\u001b[22mdependencies…\u001b[39m\u001b[22m\n",
            "\u001b[39m\u001b[22mLocking\u001b[39m\u001b[22m \u001b[31m\u001b[22m[packages]\u001b[39m\u001b[22m \u001b[39m\u001b[22mdependencies…\u001b[39m\u001b[22m\n",
            "\u001b[K\u001b[?25h\u001b[32m\u001b[22m✔ Success!\u001b[39m\u001b[22m\u001b[0m \n",
            "\u001b[39m\u001b[1mUpdated Pipfile.lock (edf75b)!\u001b[39m\u001b[22m\n",
            "\u001b[39m\u001b[1mInstalling dependencies from Pipfile.lock (edf75b)…\u001b[39m\u001b[22m\n",
            "  🐍   \u001b[32m\u001b[1m▉\u001b[39m\u001b[22m\u001b[32m\u001b[1m▉\u001b[39m\u001b[22m\u001b[32m\u001b[1m▉\u001b[39m\u001b[22m\u001b[32m\u001b[1m▉\u001b[39m\u001b[22m\u001b[32m\u001b[1m▉\u001b[39m\u001b[22m\u001b[32m\u001b[1m▉\u001b[39m\u001b[22m\u001b[32m\u001b[1m▉\u001b[39m\u001b[22m\u001b[32m\u001b[1m▉\u001b[39m\u001b[22m\u001b[32m\u001b[1m▉\u001b[39m\u001b[22m\u001b[32m\u001b[1m▉\u001b[39m\u001b[22m\u001b[32m\u001b[1m▉\u001b[39m\u001b[22m\u001b[32m\u001b[1m▉\u001b[39m\u001b[22m\u001b[32m\u001b[1m▉\u001b[39m\u001b[22m\u001b[32m\u001b[1m▉\u001b[39m\u001b[22m\u001b[32m\u001b[1m▉\u001b[39m\u001b[22m\u001b[32m\u001b[1m▉\u001b[39m\u001b[22m\u001b[32m\u001b[1m▉\u001b[39m\u001b[22m\u001b[32m\u001b[1m▉\u001b[39m\u001b[22m\u001b[32m\u001b[1m▉\u001b[39m\u001b[22m\u001b[32m\u001b[1m▉\u001b[39m\u001b[22m\u001b[32m\u001b[1m▉\u001b[39m\u001b[22m\u001b[32m\u001b[1m▉\u001b[39m\u001b[22m\u001b[32m\u001b[1m▉\u001b[39m\u001b[22m\u001b[32m\u001b[1m▉\u001b[39m\u001b[22m\u001b[32m\u001b[1m▉\u001b[39m\u001b[22m\u001b[32m\u001b[1m▉\u001b[39m\u001b[22m\u001b[32m\u001b[1m▉\u001b[39m\u001b[22m\u001b[32m\u001b[1m▉\u001b[39m\u001b[22m\u001b[32m\u001b[1m▉\u001b[39m\u001b[22m\u001b[32m\u001b[1m▉\u001b[39m\u001b[22m\u001b[32m\u001b[1m▉\u001b[39m\u001b[22m\u001b[32m\u001b[1m▉\u001b[39m\u001b[22m 15/15 — \u001b[30m\u001b[22m00:00:10\u001b[39m\u001b[22m\n",
            "\u001b[0m(content) \u001b]0;root@204d3220b986: /content\u0007\u001b[01;32mroot@204d3220b986\u001b[00m:\u001b[01;34m/content\u001b[00m# pipenv run pip freeze > requirements.txt \n",
            "(content) \u001b]0;root@204d3220b986: /content\u0007\u001b[01;32mroot@204d3220b986\u001b[00m:\u001b[01;34m/content\u001b[00m# exit\n",
            "exit\n",
            "\u001b[0m"
          ],
          "name": "stdout"
        }
      ]
    },
    {
      "cell_type": "code",
      "metadata": {
        "id": "olde3s8hEh7A",
        "colab_type": "code",
        "colab": {}
      },
      "source": [
        "''' \n",
        "cd openairapp\n",
        "FLASK_APP=aq_dashboard.py flask run\n",
        "FLASK_APP=aq_dashboard.py FLASK_ENV='development' flask run\n",
        "\n",
        "pipenv install numpy flask flask-sqlalchemy requests gunicorn\n",
        "pipenv run pip freeze > requirements.txt \n",
        "'''"
      ],
      "execution_count": 0,
      "outputs": []
    },
    {
      "cell_type": "markdown",
      "metadata": {
        "id": "gGIcXqV9GHI5",
        "colab_type": "text"
      },
      "source": [
        "## aq_dashboard.py"
      ]
    },
    {
      "cell_type": "code",
      "metadata": {
        "id": "5lxZLzN0BbQq",
        "colab_type": "code",
        "colab": {}
      },
      "source": [
        "# make a project folder\n",
        "!mkdir openairapp"
      ],
      "execution_count": 0,
      "outputs": []
    },
    {
      "cell_type": "code",
      "metadata": {
        "id": "G8k_hrQBCASx",
        "colab_type": "code",
        "outputId": "5229bd85-4660-4531-e877-39df7057a09f",
        "colab": {
          "base_uri": "https://localhost:8080/",
          "height": 35
        }
      },
      "source": [
        "%%writefile /content/openairapp/aq_dashboard.py\n",
        "\n",
        "\"\"\"OpenAQ Air Quality Dashboard with Flask.\"\"\"\n",
        "\n",
        "from flask import Flask\n",
        "\n",
        "APP = Flask(__name__)\n",
        "\n",
        "\n",
        "@APP.route('/')\n",
        "def root():\n",
        "    \"\"\"Base view.\"\"\"\n",
        "    import openaq\n",
        "    api = openaq.OpenAQ()\n",
        "    status, body = api.measurements(city='Los Angeles', parameter='pm25')\n",
        "    list_values = [(item['date']['utc'], item['value']) for item in body['results']]\n",
        "    \n",
        "#     return 'TODO - part 2 and beyond!'\n",
        "    return str(list_values)"
      ],
      "execution_count": 0,
      "outputs": [
        {
          "output_type": "stream",
          "text": [
            "Writing /content/openairapp/aq_dashboard.py\n"
          ],
          "name": "stdout"
        }
      ]
    },
    {
      "cell_type": "markdown",
      "metadata": {
        "id": "31dHjOy5HIrI",
        "colab_type": "text"
      },
      "source": [
        "# Part 2 - Breathe Easy with OpenAQ"
      ]
    },
    {
      "cell_type": "code",
      "metadata": {
        "id": "m8MDdJKcIAtb",
        "colab_type": "code",
        "colab": {}
      },
      "source": [
        "%cd /content/openairapp\n",
        "!wget https://raw.githubusercontent.com/Nov05/DS-Unit-3-Sprint-3-Productization-and-Cloud/master/sc/openaq.py"
      ],
      "execution_count": 0,
      "outputs": []
    },
    {
      "cell_type": "markdown",
      "metadata": {
        "id": "SLy9YRljLDeQ",
        "colab_type": "text"
      },
      "source": [
        "https://api.openaq.org/v1/measurements?city=Los%20Angeles&parameter=pm25  "
      ]
    },
    {
      "cell_type": "code",
      "metadata": {
        "id": "B3wHCB4VH3XI",
        "colab_type": "code",
        "outputId": "1d52143f-4c1e-4efa-f77c-c93bb9fe63a9",
        "colab": {
          "base_uri": "https://localhost:8080/",
          "height": 195
        }
      },
      "source": [
        "import openaq\n",
        "api = openaq.OpenAQ()\n",
        "status, body = api.cities()\n",
        "print(status)\n",
        "print(body)\n",
        "\n",
        "status, body = api.measurements(city='Los Angeles', parameter='pm25')\n",
        "print(status)\n",
        "print(body['meta'])\n",
        "print(len(body['results']))\n",
        "print(body['results'][:2])\n",
        "\n",
        "# Create a list of (utc_datetime, value) tuples\n",
        "print(body['results'][0]['date']['utc'], \n",
        "      body['results'][0]['value'])\n",
        "list_values = [(item['date']['utc'], item['value']) for item in body['results']]\n",
        "print(len(list_values))\n",
        "print(list_values[:2])"
      ],
      "execution_count": 0,
      "outputs": [
        {
          "output_type": "stream",
          "text": [
            "200\n",
            "{'meta': {'name': 'openaq-api', 'license': 'CC BY 4.0', 'website': 'https://docs.openaq.org/', 'page': 1, 'limit': 100, 'found': 2790, 'pages': 28}, 'results': [{'city': 'Escaldes-Engordany', 'country': 'AD', 'locations': 2, 'count': 78527}, {'city': 'unused', 'country': 'AD', 'locations': 1, 'count': 5782}, {'city': 'Abu Dhabi', 'country': 'AE', 'locations': 1, 'count': 24062}, {'city': 'Dubai', 'country': 'AE', 'locations': 1, 'count': 17021}, {'city': 'Buenos Aires', 'country': 'AR', 'locations': 4, 'count': 14976}, {'city': 'Austria', 'country': 'AT', 'locations': 174, 'count': 121987}, {'city': 'Amt der Nieder�sterreichischen Landesregierung', 'country': 'AT', 'locations': 39, 'count': 322499}, {'city': 'Amt der Steierm�rkischen Landesregierung', 'country': 'AT', 'locations': 41, 'count': 320372}, {'city': 'Gemeinde Wien, MA22 Umweltschutz', 'country': 'AT', 'locations': 21, 'count': 130328}, {'city': 'Amt der Salzburger Landesregierung', 'country': 'AT', 'locations': 12, 'count': 94197}, {'city': 'Amt der Burgenländischen Landesregierung', 'country': 'AT', 'locations': 1, 'count': 471}, {'city': 'Amt der Oberösterreichischen Landesregierung', 'country': 'AT', 'locations': 6, 'count': 2828}, {'city': 'Amt der Tiroler Landesregierung', 'country': 'AT', 'locations': 19, 'count': 113161}, {'city': 'Amt der Ober�sterreichischen Landesregierung', 'country': 'AT', 'locations': 16, 'count': 154329}, {'city': 'Amt der K�rntner Landesregierung', 'country': 'AT', 'locations': 16, 'count': 104663}, {'city': 'Umweltinstitut des Landes Vorarlberg', 'country': 'AT', 'locations': 9, 'count': 36108}, {'city': 'Umweltbundesamt', 'country': 'AT', 'locations': 8, 'count': 81025}, {'city': 'Amt der Burgenl�ndischen Landesregierung', 'country': 'AT', 'locations': 3, 'count': 35608}, {'city': 'Amt der Steiermärkischen Landesregierung', 'country': 'AT', 'locations': 4, 'count': 1891}, {'city': 'Amt der Kärntner Landesregierung', 'country': 'AT', 'locations': 1, 'count': 471}, {'city': 'Amt der Niederösterreichischen Landesregierung', 'country': 'AT', 'locations': 3, 'count': 1413}, {'city': 'Tasmania Region', 'country': 'AU', 'locations': 34, 'count': 876156}, {'city': 'Illawarra', 'country': 'AU', 'locations': 3, 'count': 417559}, {'city': 'Gladstone', 'country': 'AU', 'locations': 8, 'count': 485661}, {'city': 'South East Queensland', 'country': 'AU', 'locations': 15, 'count': 800485}, {'city': 'Upper Hunter - Singleton', 'country': 'AU', 'locations': 1, 'count': 110910}, {'city': 'Sydney South-west', 'country': 'AU', 'locations': 6, 'count': 746046}, {'city': 'Upper Hunter - Muswellbrook', 'country': 'AU', 'locations': 1, 'count': 110019}, {'city': 'Sydney North-west', 'country': 'AU', 'locations': 7, 'count': 491927}, {'city': 'Townsville', 'country': 'AU', 'locations': 4, 'count': 79950}, {'city': 'South West Queensland', 'country': 'AU', 'locations': 4, 'count': 151038}, {'city': 'Mackay', 'country': 'AU', 'locations': 2, 'count': 30102}, {'city': 'Sydney East', 'country': 'AU', 'locations': 6, 'count': 684543}, {'city': 'Central Queensland', 'country': 'AU', 'locations': 3, 'count': 12477}, {'city': 'Mount Isa', 'country': 'AU', 'locations': 2, 'count': 6329}, {'city': 'Lower Hunter', 'country': 'AU', 'locations': 3, 'count': 417179}, {'city': 'Northern Tablelands', 'country': 'AU', 'locations': 1, 'count': 14020}, {'city': 'North-west Slopes', 'country': 'AU', 'locations': 4, 'count': 117705}, {'city': 'South-west Slopes', 'country': 'AU', 'locations': 2, 'count': 101463}, {'city': 'Mt Isa', 'country': 'AU', 'locations': 2, 'count': 43106}, {'city': 'Central Tablelands', 'country': 'AU', 'locations': 2, 'count': 63457}, {'city': 'Central Coast', 'country': 'AU', 'locations': 1, 'count': 165898}, {'city': 'Zenica', 'country': 'BA', 'locations': 4, 'count': 233517}, {'city': 'Sarajevo', 'country': 'BA', 'locations': 8, 'count': 262797}, {'city': 'Goražde', 'country': 'BA', 'locations': 1, 'count': 70797}, {'city': 'Ilijaš', 'country': 'BA', 'locations': 1, 'count': 2912}, {'city': 'Kakanj', 'country': 'BA', 'locations': 1, 'count': 28022}, {'city': 'Živinice', 'country': 'BA', 'locations': 1, 'count': 64539}, {'city': 'Tuzla', 'country': 'BA', 'locations': 3, 'count': 197597}, {'city': 'Lukavac', 'country': 'BA', 'locations': 1, 'count': 75824}, {'city': 'N/A', 'country': 'BA', 'locations': 1, 'count': 6919}, {'city': 'Jajce', 'country': 'BA', 'locations': 1, 'count': 62562}, {'city': 'Dhaka', 'country': 'BD', 'locations': 2, 'count': 28424}, {'city': 'Antwerpen', 'country': 'BE', 'locations': 24, 'count': 120909}, {'city': 'Flanders', 'country': 'BE', 'locations': 67, 'count': 566501}, {'city': 'West-Vlaanderen', 'country': 'BE', 'locations': 10, 'count': 51337}, {'city': 'Oost-Vlaanderen', 'country': 'BE', 'locations': 17, 'count': 76513}, {'city': 'Brussels-Capital Region', 'country': 'BE', 'locations': 11, 'count': 75182}, {'city': 'Hainaut', 'country': 'BE', 'locations': 7, 'count': 79245}, {'city': 'Brussels', 'country': 'BE', 'locations': 9, 'count': 121634}, {'city': 'Luxembourg', 'country': 'BE', 'locations': 4, 'count': 52845}, {'city': 'Vlaams-Brabant', 'country': 'BE', 'locations': 9, 'count': 41931}, {'city': 'Wallonia', 'country': 'BE', 'locations': 23, 'count': 326776}, {'city': 'Liege', 'country': 'BE', 'locations': 8, 'count': 82691}, {'city': 'Limburg', 'country': 'BE', 'locations': 5, 'count': 21627}, {'city': 'Namur', 'country': 'BE', 'locations': 3, 'count': 36346}, {'city': 'Brabant wallon', 'country': 'BE', 'locations': 1, 'count': 16239}, {'city': 'Manama', 'country': 'BH', 'locations': 1, 'count': 37640}, {'city': 'São José do Rio Preto', 'country': 'BR', 'locations': 1, 'count': 9323}, {'city': 'Sao Paulo', 'country': 'BR', 'locations': 55, 'count': 323475}, {'city': 'S��o José do Rio Preto', 'country': 'BR', 'locations': 1, 'count': 1}, {'city': 'Diadema', 'country': 'BR', 'locations': 1, 'count': 27725}, {'city': 'Marg.Tietê-Ponte dos Remédios', 'country': 'BR', 'locations': 1, 'count': 11015}, {'city': 'São Paulo', 'country': 'BR', 'locations': 15, 'count': 696002}, {'city': 'Guarulhos', 'country': 'BR', 'locations': 2, 'count': 122861}, {'city': 'Cubatão', 'country': 'BR', 'locations': 3, 'count': 133297}, {'city': 'Marg.Tiete-Pte Remedios', 'country': 'BR', 'locations': 1, 'count': 66}, {'city': 'São Caetano do Sul', 'country': 'BR', 'locations': 2, 'count': 24716}, {'city': 'Jundiai', 'country': 'BR', 'locations': 1, 'count': 43}, {'city': 'Paulinia Sul', 'country': 'BR', 'locations': 1, 'count': 57}, {'city': 'Bauru', 'country': 'BR', 'locations': 1, 'count': 45612}, {'city': 'Santo André', 'country': 'BR', 'locations': 2, 'count': 70788}, {'city': 'Cubatao-V.Parisi', 'country': 'BR', 'locations': 1, 'count': 43}, {'city': 'Piracicaba', 'country': 'BR', 'locations': 1, 'count': 57862}, {'city': 'S. André Capuava', 'country': 'BR', 'locations': 1, 'count': 43}, {'city': 'Taboao da Serra', 'country': 'BR', 'locations': 1, 'count': 44}, {'city': 'Cap��o Redondo', 'country': 'BR', 'locations': 1, 'count': 1}, {'city': 'Sao Jose Do Rio Preto', 'country': 'BR', 'locations': 1, 'count': 58}, {'city': 'Osasco', 'country': 'BR', 'locations': 1, 'count': 58514}, {'city': 'Cerqueira Cesar', 'country': 'BR', 'locations': 1, 'count': 33}, {'city': 'Santa Gertrudes', 'country': 'BR', 'locations': 1, 'count': 15667}, {'city': 'Presidente Prudente', 'country': 'BR', 'locations': 1, 'count': 45256}, {'city': 'S.Andre-Paco Municipal', 'country': 'BR', 'locations': 1, 'count': 29}, {'city': 'São José Do Rio Preto', 'country': 'BR', 'locations': 1, 'count': 44196}, {'city': 'Paulínia Sul', 'country': 'BR', 'locations': 1, 'count': 9210}, {'city': 'Araçatuba', 'country': 'BR', 'locations': 1, 'count': 30348}, {'city': 'Mauá', 'country': 'BR', 'locations': 1, 'count': 13616}, {'city': 'Paul��nia', 'country': 'BR', 'locations': 1, 'count': 1}, {'city': 'Campinas', 'country': 'BR', 'locations': 3, 'count': 120905}, {'city': 'Nossa Senhora do Ó', 'country': 'BR', 'locations': 1, 'count': 4675}]}\n",
            "200\n",
            "{'name': 'openaq-api', 'license': 'CC BY 4.0', 'website': 'https://docs.openaq.org/', 'page': 1, 'limit': 100, 'found': 4103, 'pages': 42}\n",
            "100\n",
            "[{'location': '21 de mayo', 'parameter': 'pm25', 'date': {'utc': '2019-08-23T16:00:00.000Z', 'local': '2019-08-23T13:00:00-03:00'}, 'value': 82, 'unit': 'µg/m³', 'coordinates': {'latitude': -37.471182288689, 'longitude': -72.36146284977}, 'country': 'CL', 'city': 'Los Angeles'}, {'location': 'Los Ángeles Oriente', 'parameter': 'pm25', 'date': {'utc': '2019-08-23T16:00:00.000Z', 'local': '2019-08-23T13:00:00-03:00'}, 'value': 93, 'unit': 'µg/m³', 'coordinates': {'latitude': -37.463035064801, 'longitude': -72.324575155457}, 'country': 'CL', 'city': 'Los Angeles'}]\n",
            "2019-08-23T16:00:00.000Z 82\n",
            "100\n",
            "[('2019-08-23T16:00:00.000Z', 82), ('2019-08-23T16:00:00.000Z', 93)]\n"
          ],
          "name": "stdout"
        }
      ]
    },
    {
      "cell_type": "markdown",
      "metadata": {
        "id": "9EFN7D2CQ_Ww",
        "colab_type": "text"
      },
      "source": [
        "## Run app in virtualenv"
      ]
    },
    {
      "cell_type": "code",
      "metadata": {
        "id": "m2GiVj8NNnws",
        "colab_type": "code",
        "colab": {}
      },
      "source": [
        "%cd /content\n",
        "# run this code block to get a link, then run your Dash/Flask app\n",
        "get_ipython().system_raw('./ngrok http 5000 &')\n",
        "! curl -s http://localhost:4040/api/tunnels | python3 -c \\\n",
        "\"import sys, json; print(json.load(sys.stdin)['tunnels'][0]['public_url'])\"\n",
        "        \n",
        "%cd /content/openairapp\n",
        "!pipenv shell\n",
        "\n",
        "'''\n",
        "FLASK_APP=aq_dashboard.py flask run\n",
        "'''"
      ],
      "execution_count": 0,
      "outputs": []
    },
    {
      "cell_type": "markdown",
      "metadata": {
        "id": "IZo72zlvP_mp",
        "colab_type": "text"
      },
      "source": [
        "# Part 3 - That Data Belongs In A Model!"
      ]
    },
    {
      "cell_type": "markdown",
      "metadata": {
        "id": "YBuZR_rTRMsq",
        "colab_type": "text"
      },
      "source": [
        "## aq_dashboard.py with SQLAlchemy"
      ]
    },
    {
      "cell_type": "code",
      "metadata": {
        "id": "bRXpQT-rQLKE",
        "colab_type": "code",
        "outputId": "d242133b-8b2a-4075-b903-c67e3d1f1950",
        "colab": {
          "base_uri": "https://localhost:8080/",
          "height": 35
        }
      },
      "source": [
        "%%writefile /content/openairapp/aq_dashboard.py\n",
        "\"\"\"OpenAQ Air Quality Dashboard with Flask.\"\"\"\n",
        "\n",
        "\n",
        "from flask import Flask\n",
        "from flask_sqlalchemy import SQLAlchemy\n",
        "\n",
        "\n",
        "APP = Flask(__name__)\n",
        "APP.config['SQLALCHEMY_DATABASE_URI'] = 'sqlite:///db.sqlite3'\n",
        "DB = SQLAlchemy(APP)\n",
        "\n",
        "\n",
        "def getdata():\n",
        "    import openaq\n",
        "    api = openaq.OpenAQ()\n",
        "    status, body = api.measurements(city='Los Angeles', parameter='pm25')\n",
        "    list_values = [(item['date']['utc'], item['value']) for item in body['results']]\n",
        "    \n",
        "#     return 'TODO - part 2 and beyond!'\n",
        "    return list_values\n",
        "\n",
        "class Record(DB.Model):\n",
        "    id = DB.Column(DB.Integer, primary_key=True)\n",
        "    datetime = DB.Column(DB.String(25))\n",
        "    value = DB.Column(DB.Float, nullable=False)\n",
        "\n",
        "    def __repr__(self):\n",
        "#         return 'TODO - write a nice representation of Records'\n",
        "        return \"<Time %s --- Value %s>\" % (self.datetime, self.value)\n",
        "    \n",
        "    \n",
        "@APP.route('/')\n",
        "def root():\n",
        "    \"\"\"Base view.\"\"\"\n",
        "#     list_values = getdata()\n",
        "#     return str(list_values)\n",
        "    \n",
        "    value = 10\n",
        "    records = Record.query.filter(Record.value >= value).all()\n",
        "    print(str(records))\n",
        "    return str(records)\n",
        "\n",
        "\n",
        "@APP.route('/refresh')\n",
        "def refresh():\n",
        "    \"\"\"Pull fresh data from Open AQ and replace existing data.\"\"\"    \n",
        "    DB.drop_all()\n",
        "    DB.create_all()\n",
        "    \n",
        "    # TODO Get data from OpenAQ, make Record objects with it, and add to db\n",
        "    try:    \n",
        "        list_values = getdata()\n",
        "        for i, values in enumerate(list_values):\n",
        "            record = Record(id=i, datetime=values[0],\n",
        "                            value=values[1])\n",
        "            DB.session.add(record)\n",
        "        DB.session.commit()    \n",
        "    except:\n",
        "        DB.session.rollback()\n",
        "        raise\n",
        "    finally:\n",
        "        DB.session.close()\n",
        "    \n",
        "    return 'Data refreshed!'"
      ],
      "execution_count": 0,
      "outputs": [
        {
          "output_type": "stream",
          "text": [
            "Overwriting /content/openairapp/aq_dashboard.py\n"
          ],
          "name": "stdout"
        }
      ]
    },
    {
      "cell_type": "markdown",
      "metadata": {
        "id": "N9zWkmccmj0L",
        "colab_type": "text"
      },
      "source": [
        "## Run app in virtualenv"
      ]
    },
    {
      "cell_type": "code",
      "metadata": {
        "id": "jJfjE4uqX7hh",
        "colab_type": "code",
        "colab": {}
      },
      "source": [
        "%cd /content\n",
        "# run this code block to get a link, then run your Dash/Flask app\n",
        "get_ipython().system_raw('./ngrok http 5000 &')\n",
        "! curl -s http://localhost:4040/api/tunnels | python3 -c \\\n",
        "\"import sys, json; print(json.load(sys.stdin)['tunnels'][0]['public_url'])\"\n",
        "        \n",
        "%cd /content/openairapp\n",
        "!pipenv shell\n",
        "\n",
        "'''\n",
        "FLASK_APP=aq_dashboard.py flask run\n",
        "'''"
      ],
      "execution_count": 0,
      "outputs": []
    },
    {
      "cell_type": "code",
      "metadata": {
        "id": "7ILZgmp0dZY8",
        "colab_type": "code",
        "outputId": "2ebeaa3e-30f5-44dc-afdb-215ba2436c94",
        "colab": {
          "base_uri": "https://localhost:8080/",
          "height": 195
        }
      },
      "source": [
        "%cd /content/openairapp\n",
        "\n",
        "from aq_dashboard import DB, Record, refresh, getdata\n",
        "    \n",
        "print(refresh())\n",
        "Record.query.limit(5).all()"
      ],
      "execution_count": 0,
      "outputs": [
        {
          "output_type": "stream",
          "text": [
            "/content/openairapp\n"
          ],
          "name": "stdout"
        },
        {
          "output_type": "stream",
          "text": [
            "/usr/local/lib/python3.6/dist-packages/flask_sqlalchemy/__init__.py:835: FSADeprecationWarning: SQLALCHEMY_TRACK_MODIFICATIONS adds significant overhead and will be disabled by default in the future.  Set it to True or False to suppress this warning.\n",
            "  'SQLALCHEMY_TRACK_MODIFICATIONS adds significant overhead and '\n"
          ],
          "name": "stderr"
        },
        {
          "output_type": "stream",
          "text": [
            "Data refreshed!\n"
          ],
          "name": "stdout"
        },
        {
          "output_type": "execute_result",
          "data": {
            "text/plain": [
              "[<Time 2019-08-23T16:00:00.000Z --- Value 82.0>,\n",
              " <Time 2019-08-23T16:00:00.000Z --- Value 93.0>,\n",
              " <Time 2019-08-23T15:00:00.000Z --- Value 98.0>,\n",
              " <Time 2019-08-23T15:00:00.000Z --- Value 69.0>,\n",
              " <Time 2019-08-23T14:00:00.000Z --- Value 112.0>]"
            ]
          },
          "metadata": {
            "tags": []
          },
          "execution_count": 1
        }
      ]
    },
    {
      "cell_type": "markdown",
      "metadata": {
        "id": "uuWgEmGJjPNj",
        "colab_type": "text"
      },
      "source": [
        "# Part 4 - Dashboard to the Finish"
      ]
    },
    {
      "cell_type": "code",
      "metadata": {
        "id": "DRsCIPF7eAfy",
        "colab_type": "code",
        "outputId": "1ed6caa1-1f08-410c-9ab5-3d98f885d118",
        "colab": {
          "base_uri": "https://localhost:8080/",
          "height": 105
        }
      },
      "source": [
        "value = 10\n",
        "list_records = Record.query.filter(Record.value >= value).limit(5).all()\n",
        "list_records"
      ],
      "execution_count": 0,
      "outputs": [
        {
          "output_type": "execute_result",
          "data": {
            "text/plain": [
              "[<Time 2019-08-23T16:00:00.000Z --- Value 82.0>,\n",
              " <Time 2019-08-23T16:00:00.000Z --- Value 93.0>,\n",
              " <Time 2019-08-23T15:00:00.000Z --- Value 98.0>,\n",
              " <Time 2019-08-23T15:00:00.000Z --- Value 69.0>,\n",
              " <Time 2019-08-23T14:00:00.000Z --- Value 112.0>]"
            ]
          },
          "metadata": {
            "tags": []
          },
          "execution_count": 19
        }
      ]
    },
    {
      "cell_type": "code",
      "metadata": {
        "id": "P4PFOY__p4FX",
        "colab_type": "code",
        "outputId": "5ba0b072-6a2f-4ce0-e3e0-df0cef9b5ee6",
        "colab": {
          "base_uri": "https://localhost:8080/",
          "height": 55
        }
      },
      "source": [
        "str(list_records)"
      ],
      "execution_count": 0,
      "outputs": [
        {
          "output_type": "execute_result",
          "data": {
            "text/plain": [
              "'[<Time 2019-08-23T16:00:00.000Z --- Value 82.0>, <Time 2019-08-23T16:00:00.000Z --- Value 93.0>, <Time 2019-08-23T15:00:00.000Z --- Value 98.0>, <Time 2019-08-23T15:00:00.000Z --- Value 69.0>, <Time 2019-08-23T14:00:00.000Z --- Value 112.0>]'"
            ]
          },
          "metadata": {
            "tags": []
          },
          "execution_count": 20
        }
      ]
    },
    {
      "cell_type": "markdown",
      "metadata": {
        "id": "-FWqSLkCjUF7",
        "colab_type": "text"
      },
      "source": [
        "# Part 5 - Turn it in!"
      ]
    },
    {
      "cell_type": "code",
      "metadata": {
        "id": "jV2wfXDpqTjP",
        "colab_type": "code",
        "outputId": "1ec72c38-fc27-4929-a1e8-2e29ab1362fc",
        "colab": {
          "base_uri": "https://localhost:8080/",
          "height": 263
        }
      },
      "source": [
        "# download folder\n",
        "%cd /content\n",
        "!zip -r colab.zip openairapp\n",
        "from google.colab import files\n",
        "files.download(\"colab.zip\")"
      ],
      "execution_count": 0,
      "outputs": [
        {
          "output_type": "stream",
          "text": [
            "/content\n",
            "  adding: openairapp/ (stored 0%)\n",
            "  adding: openairapp/openaq.py (deflated 79%)\n",
            "  adding: openairapp/ngrok (deflated 48%)\n",
            "  adding: openairapp/.ipynb_checkpoints/ (stored 0%)\n",
            "  adding: openairapp/Pipfile.lock (deflated 61%)\n",
            "  adding: openairapp/aq_dashboard.py (deflated 52%)\n",
            "  adding: openairapp/ngrok-stable-linux-amd64.zip (stored 0%)\n",
            "  adding: openairapp/__pycache__/ (stored 0%)\n",
            "  adding: openairapp/__pycache__/aq_dashboard.cpython-36.pyc (deflated 37%)\n",
            "  adding: openairapp/__pycache__/openaq.cpython-36.pyc (deflated 75%)\n",
            "  adding: openairapp/db.sqlite3 (deflated 88%)\n",
            "  adding: openairapp/requirements.txt (deflated 27%)\n",
            "  adding: openairapp/Pipfile (deflated 32%)\n"
          ],
          "name": "stdout"
        }
      ]
    }
  ]
}